{
  "nbformat": 4,
  "nbformat_minor": 0,
  "metadata": {
    "colab": {
      "name": "Multiple Linear Regression.ipynb",
      "provenance": []
    },
    "kernelspec": {
      "name": "python3",
      "display_name": "Python 3"
    },
    "language_info": {
      "name": "python"
    }
  },
  "cells": [
    {
      "cell_type": "markdown",
      "metadata": {
        "id": "73Qh5bXNTYHt"
      },
      "source": [
        "# **Multiple Linear Regression**"
      ]
    },
    {
      "cell_type": "markdown",
      "metadata": {
        "id": "MR0Mj_Y3TgrG"
      },
      "source": [
        "## **Data Preprocessing**"
      ]
    },
    {
      "cell_type": "code",
      "metadata": {
        "id": "2nFheJSzTcuB"
      },
      "source": [
        "# Import libraries\n",
        "import numpy as np\n",
        "import pandas as pd\n",
        "import matplotlib.pyplot as plt"
      ],
      "execution_count": null,
      "outputs": []
    },
    {
      "cell_type": "code",
      "metadata": {
        "colab": {
          "base_uri": "https://localhost:8080/",
          "height": 195
        },
        "id": "ZFmCY7m6Tr-T",
        "outputId": "942b1666-1c43-4061-ff71-6efbb4ba883d"
      },
      "source": [
        "# Load the dataset\n",
        "dataset = pd.read_csv('50_Startups.csv')\n",
        "dataset.head()"
      ],
      "execution_count": null,
      "outputs": [
        {
          "output_type": "execute_result",
          "data": {
            "text/html": [
              "<div>\n",
              "<style scoped>\n",
              "    .dataframe tbody tr th:only-of-type {\n",
              "        vertical-align: middle;\n",
              "    }\n",
              "\n",
              "    .dataframe tbody tr th {\n",
              "        vertical-align: top;\n",
              "    }\n",
              "\n",
              "    .dataframe thead th {\n",
              "        text-align: right;\n",
              "    }\n",
              "</style>\n",
              "<table border=\"1\" class=\"dataframe\">\n",
              "  <thead>\n",
              "    <tr style=\"text-align: right;\">\n",
              "      <th></th>\n",
              "      <th>R&amp;D Spend</th>\n",
              "      <th>Administration</th>\n",
              "      <th>Marketing Spend</th>\n",
              "      <th>State</th>\n",
              "      <th>Profit</th>\n",
              "    </tr>\n",
              "  </thead>\n",
              "  <tbody>\n",
              "    <tr>\n",
              "      <th>0</th>\n",
              "      <td>165349.20</td>\n",
              "      <td>136897.80</td>\n",
              "      <td>471784.10</td>\n",
              "      <td>New York</td>\n",
              "      <td>192261.83</td>\n",
              "    </tr>\n",
              "    <tr>\n",
              "      <th>1</th>\n",
              "      <td>162597.70</td>\n",
              "      <td>151377.59</td>\n",
              "      <td>443898.53</td>\n",
              "      <td>California</td>\n",
              "      <td>191792.06</td>\n",
              "    </tr>\n",
              "    <tr>\n",
              "      <th>2</th>\n",
              "      <td>153441.51</td>\n",
              "      <td>101145.55</td>\n",
              "      <td>407934.54</td>\n",
              "      <td>Florida</td>\n",
              "      <td>191050.39</td>\n",
              "    </tr>\n",
              "    <tr>\n",
              "      <th>3</th>\n",
              "      <td>144372.41</td>\n",
              "      <td>118671.85</td>\n",
              "      <td>383199.62</td>\n",
              "      <td>New York</td>\n",
              "      <td>182901.99</td>\n",
              "    </tr>\n",
              "    <tr>\n",
              "      <th>4</th>\n",
              "      <td>142107.34</td>\n",
              "      <td>91391.77</td>\n",
              "      <td>366168.42</td>\n",
              "      <td>Florida</td>\n",
              "      <td>166187.94</td>\n",
              "    </tr>\n",
              "  </tbody>\n",
              "</table>\n",
              "</div>"
            ],
            "text/plain": [
              "   R&D Spend  Administration  Marketing Spend       State     Profit\n",
              "0  165349.20       136897.80        471784.10    New York  192261.83\n",
              "1  162597.70       151377.59        443898.53  California  191792.06\n",
              "2  153441.51       101145.55        407934.54     Florida  191050.39\n",
              "3  144372.41       118671.85        383199.62    New York  182901.99\n",
              "4  142107.34        91391.77        366168.42     Florida  166187.94"
            ]
          },
          "metadata": {},
          "execution_count": 307
        }
      ]
    },
    {
      "cell_type": "code",
      "metadata": {
        "colab": {
          "base_uri": "https://localhost:8080/"
        },
        "id": "mkNCE511T2FH",
        "outputId": "e8c5cb88-cc70-40fa-ab94-f6fab6419d0f"
      },
      "source": [
        "# Is there any NaN data?\n",
        "dataset.isnull().sum()"
      ],
      "execution_count": null,
      "outputs": [
        {
          "output_type": "execute_result",
          "data": {
            "text/plain": [
              "R&D Spend          0\n",
              "Administration     0\n",
              "Marketing Spend    0\n",
              "State              0\n",
              "Profit             0\n",
              "dtype: int64"
            ]
          },
          "metadata": {},
          "execution_count": 308
        }
      ]
    },
    {
      "cell_type": "code",
      "metadata": {
        "colab": {
          "base_uri": "https://localhost:8080/",
          "height": 166
        },
        "id": "wrHzAAKIT-EN",
        "outputId": "801fd1fd-1008-44af-8fcc-dbab89faa17f"
      },
      "source": [
        "# EDA\n",
        "dataset.describe().T"
      ],
      "execution_count": null,
      "outputs": [
        {
          "output_type": "execute_result",
          "data": {
            "text/html": [
              "<div>\n",
              "<style scoped>\n",
              "    .dataframe tbody tr th:only-of-type {\n",
              "        vertical-align: middle;\n",
              "    }\n",
              "\n",
              "    .dataframe tbody tr th {\n",
              "        vertical-align: top;\n",
              "    }\n",
              "\n",
              "    .dataframe thead th {\n",
              "        text-align: right;\n",
              "    }\n",
              "</style>\n",
              "<table border=\"1\" class=\"dataframe\">\n",
              "  <thead>\n",
              "    <tr style=\"text-align: right;\">\n",
              "      <th></th>\n",
              "      <th>count</th>\n",
              "      <th>mean</th>\n",
              "      <th>std</th>\n",
              "      <th>min</th>\n",
              "      <th>25%</th>\n",
              "      <th>50%</th>\n",
              "      <th>75%</th>\n",
              "      <th>max</th>\n",
              "    </tr>\n",
              "  </thead>\n",
              "  <tbody>\n",
              "    <tr>\n",
              "      <th>R&amp;D Spend</th>\n",
              "      <td>50.0</td>\n",
              "      <td>73721.6156</td>\n",
              "      <td>45902.256482</td>\n",
              "      <td>0.00</td>\n",
              "      <td>39936.3700</td>\n",
              "      <td>73051.080</td>\n",
              "      <td>101602.8000</td>\n",
              "      <td>165349.20</td>\n",
              "    </tr>\n",
              "    <tr>\n",
              "      <th>Administration</th>\n",
              "      <td>50.0</td>\n",
              "      <td>121344.6396</td>\n",
              "      <td>28017.802755</td>\n",
              "      <td>51283.14</td>\n",
              "      <td>103730.8750</td>\n",
              "      <td>122699.795</td>\n",
              "      <td>144842.1800</td>\n",
              "      <td>182645.56</td>\n",
              "    </tr>\n",
              "    <tr>\n",
              "      <th>Marketing Spend</th>\n",
              "      <td>50.0</td>\n",
              "      <td>211025.0978</td>\n",
              "      <td>122290.310726</td>\n",
              "      <td>0.00</td>\n",
              "      <td>129300.1325</td>\n",
              "      <td>212716.240</td>\n",
              "      <td>299469.0850</td>\n",
              "      <td>471784.10</td>\n",
              "    </tr>\n",
              "    <tr>\n",
              "      <th>Profit</th>\n",
              "      <td>50.0</td>\n",
              "      <td>112012.6392</td>\n",
              "      <td>40306.180338</td>\n",
              "      <td>14681.40</td>\n",
              "      <td>90138.9025</td>\n",
              "      <td>107978.190</td>\n",
              "      <td>139765.9775</td>\n",
              "      <td>192261.83</td>\n",
              "    </tr>\n",
              "  </tbody>\n",
              "</table>\n",
              "</div>"
            ],
            "text/plain": [
              "                 count         mean  ...          75%        max\n",
              "R&D Spend         50.0   73721.6156  ...  101602.8000  165349.20\n",
              "Administration    50.0  121344.6396  ...  144842.1800  182645.56\n",
              "Marketing Spend   50.0  211025.0978  ...  299469.0850  471784.10\n",
              "Profit            50.0  112012.6392  ...  139765.9775  192261.83\n",
              "\n",
              "[4 rows x 8 columns]"
            ]
          },
          "metadata": {},
          "execution_count": 309
        }
      ]
    },
    {
      "cell_type": "code",
      "metadata": {
        "colab": {
          "base_uri": "https://localhost:8080/",
          "height": 166
        },
        "id": "iOJy8g1RUIxm",
        "outputId": "883dbb8b-3123-4ac8-d9ad-859f15346b39"
      },
      "source": [
        "# Correlation\n",
        "dataset.corr()\n",
        "# Looks like R&D spends more impact on profit"
      ],
      "execution_count": null,
      "outputs": [
        {
          "output_type": "execute_result",
          "data": {
            "text/html": [
              "<div>\n",
              "<style scoped>\n",
              "    .dataframe tbody tr th:only-of-type {\n",
              "        vertical-align: middle;\n",
              "    }\n",
              "\n",
              "    .dataframe tbody tr th {\n",
              "        vertical-align: top;\n",
              "    }\n",
              "\n",
              "    .dataframe thead th {\n",
              "        text-align: right;\n",
              "    }\n",
              "</style>\n",
              "<table border=\"1\" class=\"dataframe\">\n",
              "  <thead>\n",
              "    <tr style=\"text-align: right;\">\n",
              "      <th></th>\n",
              "      <th>R&amp;D Spend</th>\n",
              "      <th>Administration</th>\n",
              "      <th>Marketing Spend</th>\n",
              "      <th>Profit</th>\n",
              "    </tr>\n",
              "  </thead>\n",
              "  <tbody>\n",
              "    <tr>\n",
              "      <th>R&amp;D Spend</th>\n",
              "      <td>1.000000</td>\n",
              "      <td>0.241955</td>\n",
              "      <td>0.724248</td>\n",
              "      <td>0.972900</td>\n",
              "    </tr>\n",
              "    <tr>\n",
              "      <th>Administration</th>\n",
              "      <td>0.241955</td>\n",
              "      <td>1.000000</td>\n",
              "      <td>-0.032154</td>\n",
              "      <td>0.200717</td>\n",
              "    </tr>\n",
              "    <tr>\n",
              "      <th>Marketing Spend</th>\n",
              "      <td>0.724248</td>\n",
              "      <td>-0.032154</td>\n",
              "      <td>1.000000</td>\n",
              "      <td>0.747766</td>\n",
              "    </tr>\n",
              "    <tr>\n",
              "      <th>Profit</th>\n",
              "      <td>0.972900</td>\n",
              "      <td>0.200717</td>\n",
              "      <td>0.747766</td>\n",
              "      <td>1.000000</td>\n",
              "    </tr>\n",
              "  </tbody>\n",
              "</table>\n",
              "</div>"
            ],
            "text/plain": [
              "                 R&D Spend  Administration  Marketing Spend    Profit\n",
              "R&D Spend         1.000000        0.241955         0.724248  0.972900\n",
              "Administration    0.241955        1.000000        -0.032154  0.200717\n",
              "Marketing Spend   0.724248       -0.032154         1.000000  0.747766\n",
              "Profit            0.972900        0.200717         0.747766  1.000000"
            ]
          },
          "metadata": {},
          "execution_count": 310
        }
      ]
    },
    {
      "cell_type": "code",
      "metadata": {
        "id": "42lJp4gFUVoN"
      },
      "source": [
        "# Replace 0 to NaN (Because 0 doesn't make any sense)\n",
        "dataset[(dataset['R&D Spend']\t== 0)] = dataset[(dataset['R&D Spend']\t== 0)].replace(0, np.nan)\n",
        "dataset[(dataset['Marketing Spend']\t== 0)]= dataset[(dataset['Marketing Spend']\t== 0)].replace(0, np.nan)"
      ],
      "execution_count": null,
      "outputs": []
    },
    {
      "cell_type": "code",
      "metadata": {
        "colab": {
          "base_uri": "https://localhost:8080/"
        },
        "id": "v_8_JhsiVvCO",
        "outputId": "dcc8abc6-039b-40bf-b060-0f5ddc608287"
      },
      "source": [
        "# Check if there any null value\n",
        "dataset.isnull().sum()"
      ],
      "execution_count": null,
      "outputs": [
        {
          "output_type": "execute_result",
          "data": {
            "text/plain": [
              "R&D Spend          2\n",
              "Administration     0\n",
              "Marketing Spend    3\n",
              "State              0\n",
              "Profit             0\n",
              "dtype: int64"
            ]
          },
          "metadata": {},
          "execution_count": 312
        }
      ]
    },
    {
      "cell_type": "code",
      "metadata": {
        "colab": {
          "base_uri": "https://localhost:8080/"
        },
        "id": "D5k5P21CW7hV",
        "outputId": "9c5c480f-67a4-48ec-9b07-6670b03bd258"
      },
      "source": [
        "# Find Numerical Values\n",
        "num_col = list(dataset.loc[:, dataset.dtypes == 'float64'].columns)\n",
        "num_col"
      ],
      "execution_count": null,
      "outputs": [
        {
          "output_type": "execute_result",
          "data": {
            "text/plain": [
              "['R&D Spend', 'Administration', 'Marketing Spend', 'Profit']"
            ]
          },
          "metadata": {},
          "execution_count": 313
        }
      ]
    },
    {
      "cell_type": "code",
      "metadata": {
        "colab": {
          "base_uri": "https://localhost:8080/",
          "height": 166
        },
        "id": "PzRT_u6mWPX0",
        "outputId": "24e8d221-77af-434a-eac6-e1bc0eec7f69"
      },
      "source": [
        "# fill nul value with imputer\n",
        "from sklearn.impute import SimpleImputer\n",
        "imputer = SimpleImputer(strategy='mean')\n",
        "values = imputer.fit_transform(dataset.loc[:, num_col])\n",
        "dataset.loc[:, num_col] = values\n",
        "dataset.describe().T"
      ],
      "execution_count": null,
      "outputs": [
        {
          "output_type": "execute_result",
          "data": {
            "text/html": [
              "<div>\n",
              "<style scoped>\n",
              "    .dataframe tbody tr th:only-of-type {\n",
              "        vertical-align: middle;\n",
              "    }\n",
              "\n",
              "    .dataframe tbody tr th {\n",
              "        vertical-align: top;\n",
              "    }\n",
              "\n",
              "    .dataframe thead th {\n",
              "        text-align: right;\n",
              "    }\n",
              "</style>\n",
              "<table border=\"1\" class=\"dataframe\">\n",
              "  <thead>\n",
              "    <tr style=\"text-align: right;\">\n",
              "      <th></th>\n",
              "      <th>count</th>\n",
              "      <th>mean</th>\n",
              "      <th>std</th>\n",
              "      <th>min</th>\n",
              "      <th>25%</th>\n",
              "      <th>50%</th>\n",
              "      <th>75%</th>\n",
              "      <th>max</th>\n",
              "    </tr>\n",
              "  </thead>\n",
              "  <tbody>\n",
              "    <tr>\n",
              "      <th>R&amp;D Spend</th>\n",
              "      <td>50.0</td>\n",
              "      <td>76793.349583</td>\n",
              "      <td>43312.151465</td>\n",
              "      <td>542.05</td>\n",
              "      <td>46117.0325</td>\n",
              "      <td>75791.365000</td>\n",
              "      <td>101602.8000</td>\n",
              "      <td>165349.20</td>\n",
              "    </tr>\n",
              "    <tr>\n",
              "      <th>Administration</th>\n",
              "      <td>50.0</td>\n",
              "      <td>121344.639600</td>\n",
              "      <td>28017.802755</td>\n",
              "      <td>51283.14</td>\n",
              "      <td>103730.8750</td>\n",
              "      <td>122699.795000</td>\n",
              "      <td>144842.1800</td>\n",
              "      <td>182645.56</td>\n",
              "    </tr>\n",
              "    <tr>\n",
              "      <th>Marketing Spend</th>\n",
              "      <td>50.0</td>\n",
              "      <td>224494.784894</td>\n",
              "      <td>109792.846033</td>\n",
              "      <td>1903.93</td>\n",
              "      <td>142431.3850</td>\n",
              "      <td>224494.784894</td>\n",
              "      <td>299469.0850</td>\n",
              "      <td>471784.10</td>\n",
              "    </tr>\n",
              "    <tr>\n",
              "      <th>Profit</th>\n",
              "      <td>50.0</td>\n",
              "      <td>112012.639200</td>\n",
              "      <td>40306.180338</td>\n",
              "      <td>14681.40</td>\n",
              "      <td>90138.9025</td>\n",
              "      <td>107978.190000</td>\n",
              "      <td>139765.9775</td>\n",
              "      <td>192261.83</td>\n",
              "    </tr>\n",
              "  </tbody>\n",
              "</table>\n",
              "</div>"
            ],
            "text/plain": [
              "                 count           mean  ...          75%        max\n",
              "R&D Spend         50.0   76793.349583  ...  101602.8000  165349.20\n",
              "Administration    50.0  121344.639600  ...  144842.1800  182645.56\n",
              "Marketing Spend   50.0  224494.784894  ...  299469.0850  471784.10\n",
              "Profit            50.0  112012.639200  ...  139765.9775  192261.83\n",
              "\n",
              "[4 rows x 8 columns]"
            ]
          },
          "metadata": {},
          "execution_count": 314
        }
      ]
    },
    {
      "cell_type": "code",
      "metadata": {
        "colab": {
          "base_uri": "https://localhost:8080/",
          "height": 166
        },
        "id": "8PHNSrQcXiJf",
        "outputId": "9bc62979-d617-4d5c-c6cb-62e810c86dc5"
      },
      "source": [
        "# Correlation matrix\n",
        "dataset.corr()"
      ],
      "execution_count": null,
      "outputs": [
        {
          "output_type": "execute_result",
          "data": {
            "text/html": [
              "<div>\n",
              "<style scoped>\n",
              "    .dataframe tbody tr th:only-of-type {\n",
              "        vertical-align: middle;\n",
              "    }\n",
              "\n",
              "    .dataframe tbody tr th {\n",
              "        vertical-align: top;\n",
              "    }\n",
              "\n",
              "    .dataframe thead th {\n",
              "        text-align: right;\n",
              "    }\n",
              "</style>\n",
              "<table border=\"1\" class=\"dataframe\">\n",
              "  <thead>\n",
              "    <tr style=\"text-align: right;\">\n",
              "      <th></th>\n",
              "      <th>R&amp;D Spend</th>\n",
              "      <th>Administration</th>\n",
              "      <th>Marketing Spend</th>\n",
              "      <th>Profit</th>\n",
              "    </tr>\n",
              "  </thead>\n",
              "  <tbody>\n",
              "    <tr>\n",
              "      <th>R&amp;D Spend</th>\n",
              "      <td>1.000000</td>\n",
              "      <td>0.268979</td>\n",
              "      <td>0.666533</td>\n",
              "      <td>0.881354</td>\n",
              "    </tr>\n",
              "    <tr>\n",
              "      <th>Administration</th>\n",
              "      <td>0.268979</td>\n",
              "      <td>1.000000</td>\n",
              "      <td>-0.070590</td>\n",
              "      <td>0.200717</td>\n",
              "    </tr>\n",
              "    <tr>\n",
              "      <th>Marketing Spend</th>\n",
              "      <td>0.666533</td>\n",
              "      <td>-0.070590</td>\n",
              "      <td>1.000000</td>\n",
              "      <td>0.693088</td>\n",
              "    </tr>\n",
              "    <tr>\n",
              "      <th>Profit</th>\n",
              "      <td>0.881354</td>\n",
              "      <td>0.200717</td>\n",
              "      <td>0.693088</td>\n",
              "      <td>1.000000</td>\n",
              "    </tr>\n",
              "  </tbody>\n",
              "</table>\n",
              "</div>"
            ],
            "text/plain": [
              "                 R&D Spend  Administration  Marketing Spend    Profit\n",
              "R&D Spend         1.000000        0.268979         0.666533  0.881354\n",
              "Administration    0.268979        1.000000        -0.070590  0.200717\n",
              "Marketing Spend   0.666533       -0.070590         1.000000  0.693088\n",
              "Profit            0.881354        0.200717         0.693088  1.000000"
            ]
          },
          "metadata": {},
          "execution_count": 315
        }
      ]
    },
    {
      "cell_type": "code",
      "metadata": {
        "colab": {
          "base_uri": "https://localhost:8080/"
        },
        "id": "X0oXGduaYzIA",
        "outputId": "df1f32b5-8ee0-45a6-9279-61d0e6dc816f"
      },
      "source": [
        "# Handling Categorical Variable\n",
        "cat_col = list(dataset.loc[:, dataset.dtypes == 'object'].columns)\n",
        "cat_col"
      ],
      "execution_count": null,
      "outputs": [
        {
          "output_type": "execute_result",
          "data": {
            "text/plain": [
              "['State']"
            ]
          },
          "metadata": {},
          "execution_count": 316
        }
      ]
    },
    {
      "cell_type": "code",
      "metadata": {
        "colab": {
          "base_uri": "https://localhost:8080/",
          "height": 195
        },
        "id": "6VH_JoENZJvk",
        "outputId": "e9ea3ef0-b8a0-4dd1-b24f-bfbcf7b74ec2"
      },
      "source": [
        "# OneHotEncoder\n",
        "from sklearn.preprocessing import OneHotEncoder\n",
        "encoder = OneHotEncoder(sparse=False, drop='first')\n",
        "new_df = dataset.copy()\n",
        "values = encoder.fit_transform(dataset.loc[:, cat_col])\n",
        "col_ind = [x for x in range(values.shape[1])]\n",
        "new_df.loc[:, col_ind] = values\n",
        "new_df.drop('State', axis=1, inplace=True)\n",
        "new_df.head()"
      ],
      "execution_count": null,
      "outputs": [
        {
          "output_type": "execute_result",
          "data": {
            "text/html": [
              "<div>\n",
              "<style scoped>\n",
              "    .dataframe tbody tr th:only-of-type {\n",
              "        vertical-align: middle;\n",
              "    }\n",
              "\n",
              "    .dataframe tbody tr th {\n",
              "        vertical-align: top;\n",
              "    }\n",
              "\n",
              "    .dataframe thead th {\n",
              "        text-align: right;\n",
              "    }\n",
              "</style>\n",
              "<table border=\"1\" class=\"dataframe\">\n",
              "  <thead>\n",
              "    <tr style=\"text-align: right;\">\n",
              "      <th></th>\n",
              "      <th>R&amp;D Spend</th>\n",
              "      <th>Administration</th>\n",
              "      <th>Marketing Spend</th>\n",
              "      <th>Profit</th>\n",
              "      <th>0</th>\n",
              "      <th>1</th>\n",
              "    </tr>\n",
              "  </thead>\n",
              "  <tbody>\n",
              "    <tr>\n",
              "      <th>0</th>\n",
              "      <td>165349.20</td>\n",
              "      <td>136897.80</td>\n",
              "      <td>471784.10</td>\n",
              "      <td>192261.83</td>\n",
              "      <td>0.0</td>\n",
              "      <td>1.0</td>\n",
              "    </tr>\n",
              "    <tr>\n",
              "      <th>1</th>\n",
              "      <td>162597.70</td>\n",
              "      <td>151377.59</td>\n",
              "      <td>443898.53</td>\n",
              "      <td>191792.06</td>\n",
              "      <td>0.0</td>\n",
              "      <td>0.0</td>\n",
              "    </tr>\n",
              "    <tr>\n",
              "      <th>2</th>\n",
              "      <td>153441.51</td>\n",
              "      <td>101145.55</td>\n",
              "      <td>407934.54</td>\n",
              "      <td>191050.39</td>\n",
              "      <td>1.0</td>\n",
              "      <td>0.0</td>\n",
              "    </tr>\n",
              "    <tr>\n",
              "      <th>3</th>\n",
              "      <td>144372.41</td>\n",
              "      <td>118671.85</td>\n",
              "      <td>383199.62</td>\n",
              "      <td>182901.99</td>\n",
              "      <td>0.0</td>\n",
              "      <td>1.0</td>\n",
              "    </tr>\n",
              "    <tr>\n",
              "      <th>4</th>\n",
              "      <td>142107.34</td>\n",
              "      <td>91391.77</td>\n",
              "      <td>366168.42</td>\n",
              "      <td>166187.94</td>\n",
              "      <td>1.0</td>\n",
              "      <td>0.0</td>\n",
              "    </tr>\n",
              "  </tbody>\n",
              "</table>\n",
              "</div>"
            ],
            "text/plain": [
              "   R&D Spend  Administration  Marketing Spend     Profit    0    1\n",
              "0  165349.20       136897.80        471784.10  192261.83  0.0  1.0\n",
              "1  162597.70       151377.59        443898.53  191792.06  0.0  0.0\n",
              "2  153441.51       101145.55        407934.54  191050.39  1.0  0.0\n",
              "3  144372.41       118671.85        383199.62  182901.99  0.0  1.0\n",
              "4  142107.34        91391.77        366168.42  166187.94  1.0  0.0"
            ]
          },
          "metadata": {},
          "execution_count": 317
        }
      ]
    },
    {
      "cell_type": "code",
      "metadata": {
        "colab": {
          "base_uri": "https://localhost:8080/",
          "height": 225
        },
        "id": "VaUXYLKBamkc",
        "outputId": "fc9281f1-4e50-4972-9caf-65aaf4d40758"
      },
      "source": [
        "# correlation\n",
        "new_df.corr()"
      ],
      "execution_count": null,
      "outputs": [
        {
          "output_type": "execute_result",
          "data": {
            "text/html": [
              "<div>\n",
              "<style scoped>\n",
              "    .dataframe tbody tr th:only-of-type {\n",
              "        vertical-align: middle;\n",
              "    }\n",
              "\n",
              "    .dataframe tbody tr th {\n",
              "        vertical-align: top;\n",
              "    }\n",
              "\n",
              "    .dataframe thead th {\n",
              "        text-align: right;\n",
              "    }\n",
              "</style>\n",
              "<table border=\"1\" class=\"dataframe\">\n",
              "  <thead>\n",
              "    <tr style=\"text-align: right;\">\n",
              "      <th></th>\n",
              "      <th>R&amp;D Spend</th>\n",
              "      <th>Administration</th>\n",
              "      <th>Marketing Spend</th>\n",
              "      <th>Profit</th>\n",
              "      <th>0</th>\n",
              "      <th>1</th>\n",
              "    </tr>\n",
              "  </thead>\n",
              "  <tbody>\n",
              "    <tr>\n",
              "      <th>R&amp;D Spend</th>\n",
              "      <td>1.000000</td>\n",
              "      <td>0.268979</td>\n",
              "      <td>0.666533</td>\n",
              "      <td>0.881354</td>\n",
              "      <td>0.062887</td>\n",
              "      <td>-0.010015</td>\n",
              "    </tr>\n",
              "    <tr>\n",
              "      <th>Administration</th>\n",
              "      <td>0.268979</td>\n",
              "      <td>1.000000</td>\n",
              "      <td>-0.070590</td>\n",
              "      <td>0.200717</td>\n",
              "      <td>0.010493</td>\n",
              "      <td>0.005145</td>\n",
              "    </tr>\n",
              "    <tr>\n",
              "      <th>Marketing Spend</th>\n",
              "      <td>0.666533</td>\n",
              "      <td>-0.070590</td>\n",
              "      <td>1.000000</td>\n",
              "      <td>0.693088</td>\n",
              "      <td>0.144084</td>\n",
              "      <td>0.047958</td>\n",
              "    </tr>\n",
              "    <tr>\n",
              "      <th>Profit</th>\n",
              "      <td>0.881354</td>\n",
              "      <td>0.200717</td>\n",
              "      <td>0.693088</td>\n",
              "      <td>1.000000</td>\n",
              "      <td>0.116244</td>\n",
              "      <td>0.031368</td>\n",
              "    </tr>\n",
              "    <tr>\n",
              "      <th>0</th>\n",
              "      <td>0.062887</td>\n",
              "      <td>0.010493</td>\n",
              "      <td>0.144084</td>\n",
              "      <td>0.116244</td>\n",
              "      <td>1.000000</td>\n",
              "      <td>-0.492366</td>\n",
              "    </tr>\n",
              "    <tr>\n",
              "      <th>1</th>\n",
              "      <td>-0.010015</td>\n",
              "      <td>0.005145</td>\n",
              "      <td>0.047958</td>\n",
              "      <td>0.031368</td>\n",
              "      <td>-0.492366</td>\n",
              "      <td>1.000000</td>\n",
              "    </tr>\n",
              "  </tbody>\n",
              "</table>\n",
              "</div>"
            ],
            "text/plain": [
              "                 R&D Spend  Administration  ...         0         1\n",
              "R&D Spend         1.000000        0.268979  ...  0.062887 -0.010015\n",
              "Administration    0.268979        1.000000  ...  0.010493  0.005145\n",
              "Marketing Spend   0.666533       -0.070590  ...  0.144084  0.047958\n",
              "Profit            0.881354        0.200717  ...  0.116244  0.031368\n",
              "0                 0.062887        0.010493  ...  1.000000 -0.492366\n",
              "1                -0.010015        0.005145  ... -0.492366  1.000000\n",
              "\n",
              "[6 rows x 6 columns]"
            ]
          },
          "metadata": {},
          "execution_count": 318
        }
      ]
    },
    {
      "cell_type": "code",
      "metadata": {
        "id": "m1JPFus2bVyL"
      },
      "source": [
        "# Sepeate Dataset into depeandat and independant\n",
        "dep = 'Profit'\n",
        "X = new_df.loc[:, new_df.columns != dep].values\n",
        "y = new_df.loc[:, dep].values"
      ],
      "execution_count": null,
      "outputs": []
    },
    {
      "cell_type": "code",
      "metadata": {
        "id": "meufy1THb4AL"
      },
      "source": [
        "# Split dataset into training and testing\n",
        "from sklearn.model_selection import train_test_split\n",
        "X_train, X_test, y_train, y_test = train_test_split(X, y, random_state=0, test_size=1/3)"
      ],
      "execution_count": null,
      "outputs": []
    },
    {
      "cell_type": "markdown",
      "metadata": {
        "id": "91vnNA72cS0J"
      },
      "source": [
        "## **Fitting Model on train set**"
      ]
    },
    {
      "cell_type": "code",
      "metadata": {
        "colab": {
          "base_uri": "https://localhost:8080/"
        },
        "id": "XVPAVfI-cOha",
        "outputId": "2200cceb-3768-4fba-99cf-fcad21fcb0f1"
      },
      "source": [
        "from sklearn.linear_model import LinearRegression\n",
        "regressor = LinearRegression()\n",
        "regressor.fit(X_train, y_train)"
      ],
      "execution_count": null,
      "outputs": [
        {
          "output_type": "execute_result",
          "data": {
            "text/plain": [
              "LinearRegression(copy_X=True, fit_intercept=True, n_jobs=None, normalize=False)"
            ]
          },
          "metadata": {},
          "execution_count": 321
        }
      ]
    },
    {
      "cell_type": "markdown",
      "metadata": {
        "id": "5W53abzEcsRL"
      },
      "source": [
        "## **Prediction on test set**"
      ]
    },
    {
      "cell_type": "code",
      "metadata": {
        "colab": {
          "base_uri": "https://localhost:8080/"
        },
        "id": "ICHKlPaUcgtY",
        "outputId": "d858aaa2-4a50-4a0e-8d05-d2713ad0f046"
      },
      "source": [
        "y_pred = regressor.predict(X_test)\n",
        "y_pred"
      ],
      "execution_count": null,
      "outputs": [
        {
          "output_type": "execute_result",
          "data": {
            "text/plain": [
              "array([107344.0656611 , 121390.44661097, 132316.4586238 ,  74216.57489357,\n",
              "       179645.41603457, 119782.42764804,  65399.93734631,  95491.72478471,\n",
              "       119974.98813275, 167793.82421704,  98719.22638954,  86546.58757724,\n",
              "       110744.8964275 ,  88484.11860765, 130576.11570289, 162392.99956582,\n",
              "       151547.85388251])"
            ]
          },
          "metadata": {},
          "execution_count": 322
        }
      ]
    },
    {
      "cell_type": "markdown",
      "metadata": {
        "id": "tLHLFcYpdEMq"
      },
      "source": [
        "## **Model Cefficents**"
      ]
    },
    {
      "cell_type": "code",
      "metadata": {
        "colab": {
          "base_uri": "https://localhost:8080/"
        },
        "id": "X1kmqskocmc1",
        "outputId": "b0093c57-5b2c-4fb8-d456-02369398dd4f"
      },
      "source": [
        "regressor.coef_"
      ],
      "execution_count": null,
      "outputs": [
        {
          "output_type": "execute_result",
          "data": {
            "text/plain": [
              "array([6.83504116e-01, 1.06648980e-01, 7.33706959e-02, 9.58256035e+03,\n",
              "       6.47917928e+03])"
            ]
          },
          "metadata": {},
          "execution_count": 323
        }
      ]
    },
    {
      "cell_type": "markdown",
      "metadata": {
        "id": "n4F9O0o9eI_R"
      },
      "source": [
        "## **Model Intercept**"
      ]
    },
    {
      "cell_type": "code",
      "metadata": {
        "colab": {
          "base_uri": "https://localhost:8080/"
        },
        "id": "dpJ7UOzudLmj",
        "outputId": "e7a11ada-aeaa-4ce2-ed9c-f0a00bd4b6a8"
      },
      "source": [
        "regressor.intercept_"
      ],
      "execution_count": null,
      "outputs": [
        {
          "output_type": "execute_result",
          "data": {
            "text/plain": [
              "24467.441289251627"
            ]
          },
          "metadata": {},
          "execution_count": 324
        }
      ]
    },
    {
      "cell_type": "markdown",
      "metadata": {
        "id": "8oYhapqVfbgs"
      },
      "source": [
        "## **Score**"
      ]
    },
    {
      "cell_type": "code",
      "metadata": {
        "colab": {
          "base_uri": "https://localhost:8080/"
        },
        "id": "URRbRHObeb7K",
        "outputId": "9213a3c4-5bff-4d71-9060-1e9427ab9fb8"
      },
      "source": [
        "regressor.score(X_test, y_test)"
      ],
      "execution_count": null,
      "outputs": [
        {
          "output_type": "execute_result",
          "data": {
            "text/plain": [
              "0.8711047173002344"
            ]
          },
          "metadata": {},
          "execution_count": 325
        }
      ]
    },
    {
      "cell_type": "markdown",
      "metadata": {
        "id": "m3EvwQfMNBVT"
      },
      "source": [
        "## **Feature Elimination using statsmodels**"
      ]
    },
    {
      "cell_type": "code",
      "metadata": {
        "id": "00H7V1ojPMy6"
      },
      "source": [
        "# OneHotEncoder\n",
        "from sklearn.preprocessing import OneHotEncoder\n",
        "encoder = OneHotEncoder(sparse=False)\n",
        "new_df = dataset.copy()\n",
        "values = encoder.fit_transform(dataset.loc[:, cat_col])\n",
        "col_ind = [x for x in range(values.shape[1])]\n",
        "new_df.loc[:, col_ind] = values\n",
        "new_df.drop('State', axis=1, inplace=True)\n",
        "new_df.drop('Profit', axis=1, inplace=True)\n",
        "new_df.head()\n",
        "\n",
        "# add 1 into the dataset\n",
        "new_X = np.append(np.ones((new_df.shape[0],1)), new_df, axis=1)"
      ],
      "execution_count": null,
      "outputs": []
    },
    {
      "cell_type": "code",
      "metadata": {
        "colab": {
          "base_uri": "https://localhost:8080/",
          "height": 559
        },
        "id": "yY311AaTPU9s",
        "outputId": "00fa659a-baa0-42e6-a2bf-e8af5e0850db"
      },
      "source": [
        "import statsmodels.api as sm\n",
        "regressor_OLS = sm.OLS(exog=new_X, endog=y).fit()\n",
        "regressor_OLS.summary()"
      ],
      "execution_count": null,
      "outputs": [
        {
          "output_type": "execute_result",
          "data": {
            "text/html": [
              "<table class=\"simpletable\">\n",
              "<caption>OLS Regression Results</caption>\n",
              "<tr>\n",
              "  <th>Dep. Variable:</th>            <td>y</td>        <th>  R-squared:         </th> <td>   0.802</td>\n",
              "</tr>\n",
              "<tr>\n",
              "  <th>Model:</th>                   <td>OLS</td>       <th>  Adj. R-squared:    </th> <td>   0.780</td>\n",
              "</tr>\n",
              "<tr>\n",
              "  <th>Method:</th>             <td>Least Squares</td>  <th>  F-statistic:       </th> <td>   35.69</td>\n",
              "</tr>\n",
              "<tr>\n",
              "  <th>Date:</th>             <td>Tue, 31 Aug 2021</td> <th>  Prob (F-statistic):</th> <td>2.02e-14</td>\n",
              "</tr>\n",
              "<tr>\n",
              "  <th>Time:</th>                 <td>08:19:13</td>     <th>  Log-Likelihood:    </th> <td> -560.14</td>\n",
              "</tr>\n",
              "<tr>\n",
              "  <th>No. Observations:</th>      <td>    50</td>      <th>  AIC:               </th> <td>   1132.</td>\n",
              "</tr>\n",
              "<tr>\n",
              "  <th>Df Residuals:</th>          <td>    44</td>      <th>  BIC:               </th> <td>   1144.</td>\n",
              "</tr>\n",
              "<tr>\n",
              "  <th>Df Model:</th>              <td>     5</td>      <th>                     </th>     <td> </td>   \n",
              "</tr>\n",
              "<tr>\n",
              "  <th>Covariance Type:</th>      <td>nonrobust</td>    <th>                     </th>     <td> </td>   \n",
              "</tr>\n",
              "</table>\n",
              "<table class=\"simpletable\">\n",
              "<tr>\n",
              "    <td></td>       <th>coef</th>     <th>std err</th>      <th>t</th>      <th>P>|t|</th>  <th>[0.025</th>    <th>0.975]</th>  \n",
              "</tr>\n",
              "<tr>\n",
              "  <th>const</th> <td>  3.17e+04</td> <td> 1.07e+04</td> <td>    2.950</td> <td> 0.005</td> <td>    1e+04</td> <td> 5.34e+04</td>\n",
              "</tr>\n",
              "<tr>\n",
              "  <th>x1</th>    <td>    0.7076</td> <td>    0.093</td> <td>    7.591</td> <td> 0.000</td> <td>    0.520</td> <td>    0.895</td>\n",
              "</tr>\n",
              "<tr>\n",
              "  <th>x2</th>    <td>    0.0103</td> <td>    0.107</td> <td>    0.096</td> <td> 0.924</td> <td>   -0.206</td> <td>    0.226</td>\n",
              "</tr>\n",
              "<tr>\n",
              "  <th>x3</th>    <td>    0.0633</td> <td>    0.036</td> <td>    1.750</td> <td> 0.087</td> <td>   -0.010</td> <td>    0.136</td>\n",
              "</tr>\n",
              "<tr>\n",
              "  <th>x4</th>    <td> 6428.5599</td> <td> 4890.837</td> <td>    1.314</td> <td> 0.196</td> <td>-3428.275</td> <td> 1.63e+04</td>\n",
              "</tr>\n",
              "<tr>\n",
              "  <th>x5</th>    <td> 1.305e+04</td> <td> 5530.078</td> <td>    2.359</td> <td> 0.023</td> <td> 1902.950</td> <td> 2.42e+04</td>\n",
              "</tr>\n",
              "<tr>\n",
              "  <th>x6</th>    <td> 1.222e+04</td> <td> 5313.734</td> <td>    2.300</td> <td> 0.026</td> <td> 1513.226</td> <td> 2.29e+04</td>\n",
              "</tr>\n",
              "</table>\n",
              "<table class=\"simpletable\">\n",
              "<tr>\n",
              "  <th>Omnibus:</th>       <td>54.528</td> <th>  Durbin-Watson:     </th> <td>   0.875</td>\n",
              "</tr>\n",
              "<tr>\n",
              "  <th>Prob(Omnibus):</th> <td> 0.000</td> <th>  Jarque-Bera (JB):  </th> <td> 278.512</td>\n",
              "</tr>\n",
              "<tr>\n",
              "  <th>Skew:</th>          <td>-2.917</td> <th>  Prob(JB):          </th> <td>3.33e-61</td>\n",
              "</tr>\n",
              "<tr>\n",
              "  <th>Kurtosis:</th>      <td>12.983</td> <th>  Cond. No.          </th> <td>3.08e+21</td>\n",
              "</tr>\n",
              "</table><br/><br/>Warnings:<br/>[1] Standard Errors assume that the covariance matrix of the errors is correctly specified.<br/>[2] The smallest eigenvalue is 4.29e-31. This might indicate that there are<br/>strong multicollinearity problems or that the design matrix is singular."
            ],
            "text/plain": [
              "<class 'statsmodels.iolib.summary.Summary'>\n",
              "\"\"\"\n",
              "                            OLS Regression Results                            \n",
              "==============================================================================\n",
              "Dep. Variable:                      y   R-squared:                       0.802\n",
              "Model:                            OLS   Adj. R-squared:                  0.780\n",
              "Method:                 Least Squares   F-statistic:                     35.69\n",
              "Date:                Tue, 31 Aug 2021   Prob (F-statistic):           2.02e-14\n",
              "Time:                        08:19:13   Log-Likelihood:                -560.14\n",
              "No. Observations:                  50   AIC:                             1132.\n",
              "Df Residuals:                      44   BIC:                             1144.\n",
              "Df Model:                           5                                         \n",
              "Covariance Type:            nonrobust                                         \n",
              "==============================================================================\n",
              "                 coef    std err          t      P>|t|      [0.025      0.975]\n",
              "------------------------------------------------------------------------------\n",
              "const        3.17e+04   1.07e+04      2.950      0.005       1e+04    5.34e+04\n",
              "x1             0.7076      0.093      7.591      0.000       0.520       0.895\n",
              "x2             0.0103      0.107      0.096      0.924      -0.206       0.226\n",
              "x3             0.0633      0.036      1.750      0.087      -0.010       0.136\n",
              "x4          6428.5599   4890.837      1.314      0.196   -3428.275    1.63e+04\n",
              "x5          1.305e+04   5530.078      2.359      0.023    1902.950    2.42e+04\n",
              "x6          1.222e+04   5313.734      2.300      0.026    1513.226    2.29e+04\n",
              "==============================================================================\n",
              "Omnibus:                       54.528   Durbin-Watson:                   0.875\n",
              "Prob(Omnibus):                  0.000   Jarque-Bera (JB):              278.512\n",
              "Skew:                          -2.917   Prob(JB):                     3.33e-61\n",
              "Kurtosis:                      12.983   Cond. No.                     3.08e+21\n",
              "==============================================================================\n",
              "\n",
              "Warnings:\n",
              "[1] Standard Errors assume that the covariance matrix of the errors is correctly specified.\n",
              "[2] The smallest eigenvalue is 4.29e-31. This might indicate that there are\n",
              "strong multicollinearity problems or that the design matrix is singular.\n",
              "\"\"\""
            ]
          },
          "metadata": {},
          "execution_count": 327
        }
      ]
    },
    {
      "cell_type": "code",
      "metadata": {
        "colab": {
          "base_uri": "https://localhost:8080/",
          "height": 539
        },
        "id": "yIBC62X2PakW",
        "outputId": "1bc89b13-b863-4ad6-cda4-f1dd992eb680"
      },
      "source": [
        "new_X = new_X[:,[0,1,3,4,5,6]]\n",
        "\n",
        "regressor_OLS = sm.OLS(exog=new_X, endog=y).fit()\n",
        "regressor_OLS.summary()"
      ],
      "execution_count": null,
      "outputs": [
        {
          "output_type": "execute_result",
          "data": {
            "text/html": [
              "<table class=\"simpletable\">\n",
              "<caption>OLS Regression Results</caption>\n",
              "<tr>\n",
              "  <th>Dep. Variable:</th>            <td>y</td>        <th>  R-squared:         </th> <td>   0.802</td>\n",
              "</tr>\n",
              "<tr>\n",
              "  <th>Model:</th>                   <td>OLS</td>       <th>  Adj. R-squared:    </th> <td>   0.785</td>\n",
              "</tr>\n",
              "<tr>\n",
              "  <th>Method:</th>             <td>Least Squares</td>  <th>  F-statistic:       </th> <td>   45.61</td>\n",
              "</tr>\n",
              "<tr>\n",
              "  <th>Date:</th>             <td>Tue, 31 Aug 2021</td> <th>  Prob (F-statistic):</th> <td>2.80e-15</td>\n",
              "</tr>\n",
              "<tr>\n",
              "  <th>Time:</th>                 <td>08:19:13</td>     <th>  Log-Likelihood:    </th> <td> -560.15</td>\n",
              "</tr>\n",
              "<tr>\n",
              "  <th>No. Observations:</th>      <td>    50</td>      <th>  AIC:               </th> <td>   1130.</td>\n",
              "</tr>\n",
              "<tr>\n",
              "  <th>Df Residuals:</th>          <td>    45</td>      <th>  BIC:               </th> <td>   1140.</td>\n",
              "</tr>\n",
              "<tr>\n",
              "  <th>Df Model:</th>              <td>     4</td>      <th>                     </th>     <td> </td>   \n",
              "</tr>\n",
              "<tr>\n",
              "  <th>Covariance Type:</th>      <td>nonrobust</td>    <th>                     </th>     <td> </td>   \n",
              "</tr>\n",
              "</table>\n",
              "<table class=\"simpletable\">\n",
              "<tr>\n",
              "    <td></td>       <th>coef</th>     <th>std err</th>      <th>t</th>      <th>P>|t|</th>  <th>[0.025</th>    <th>0.975]</th>  \n",
              "</tr>\n",
              "<tr>\n",
              "  <th>const</th> <td> 3.263e+04</td> <td> 4748.599</td> <td>    6.871</td> <td> 0.000</td> <td> 2.31e+04</td> <td> 4.22e+04</td>\n",
              "</tr>\n",
              "<tr>\n",
              "  <th>x1</th>    <td>    0.7115</td> <td>    0.083</td> <td>    8.551</td> <td> 0.000</td> <td>    0.544</td> <td>    0.879</td>\n",
              "</tr>\n",
              "<tr>\n",
              "  <th>x2</th>    <td>    0.0620</td> <td>    0.033</td> <td>    1.856</td> <td> 0.070</td> <td>   -0.005</td> <td>    0.129</td>\n",
              "</tr>\n",
              "<tr>\n",
              "  <th>x3</th>    <td> 6707.5644</td> <td> 3901.061</td> <td>    1.719</td> <td> 0.092</td> <td>-1149.575</td> <td> 1.46e+04</td>\n",
              "</tr>\n",
              "<tr>\n",
              "  <th>x4</th>    <td> 1.337e+04</td> <td> 4326.234</td> <td>    3.091</td> <td> 0.003</td> <td> 4661.056</td> <td> 2.21e+04</td>\n",
              "</tr>\n",
              "<tr>\n",
              "  <th>x5</th>    <td> 1.254e+04</td> <td> 4087.069</td> <td>    3.069</td> <td> 0.004</td> <td> 4312.882</td> <td> 2.08e+04</td>\n",
              "</tr>\n",
              "</table>\n",
              "<table class=\"simpletable\">\n",
              "<tr>\n",
              "  <th>Omnibus:</th>       <td>54.721</td> <th>  Durbin-Watson:     </th> <td>   0.873</td>\n",
              "</tr>\n",
              "<tr>\n",
              "  <th>Prob(Omnibus):</th> <td> 0.000</td> <th>  Jarque-Bera (JB):  </th> <td> 281.572</td>\n",
              "</tr>\n",
              "<tr>\n",
              "  <th>Skew:</th>          <td>-2.926</td> <th>  Prob(JB):          </th> <td>7.20e-62</td>\n",
              "</tr>\n",
              "<tr>\n",
              "  <th>Kurtosis:</th>      <td>13.045</td> <th>  Cond. No.          </th> <td>4.91e+21</td>\n",
              "</tr>\n",
              "</table><br/><br/>Warnings:<br/>[1] Standard Errors assume that the covariance matrix of the errors is correctly specified.<br/>[2] The smallest eigenvalue is 1.43e-31. This might indicate that there are<br/>strong multicollinearity problems or that the design matrix is singular."
            ],
            "text/plain": [
              "<class 'statsmodels.iolib.summary.Summary'>\n",
              "\"\"\"\n",
              "                            OLS Regression Results                            \n",
              "==============================================================================\n",
              "Dep. Variable:                      y   R-squared:                       0.802\n",
              "Model:                            OLS   Adj. R-squared:                  0.785\n",
              "Method:                 Least Squares   F-statistic:                     45.61\n",
              "Date:                Tue, 31 Aug 2021   Prob (F-statistic):           2.80e-15\n",
              "Time:                        08:19:13   Log-Likelihood:                -560.15\n",
              "No. Observations:                  50   AIC:                             1130.\n",
              "Df Residuals:                      45   BIC:                             1140.\n",
              "Df Model:                           4                                         \n",
              "Covariance Type:            nonrobust                                         \n",
              "==============================================================================\n",
              "                 coef    std err          t      P>|t|      [0.025      0.975]\n",
              "------------------------------------------------------------------------------\n",
              "const       3.263e+04   4748.599      6.871      0.000    2.31e+04    4.22e+04\n",
              "x1             0.7115      0.083      8.551      0.000       0.544       0.879\n",
              "x2             0.0620      0.033      1.856      0.070      -0.005       0.129\n",
              "x3          6707.5644   3901.061      1.719      0.092   -1149.575    1.46e+04\n",
              "x4          1.337e+04   4326.234      3.091      0.003    4661.056    2.21e+04\n",
              "x5          1.254e+04   4087.069      3.069      0.004    4312.882    2.08e+04\n",
              "==============================================================================\n",
              "Omnibus:                       54.721   Durbin-Watson:                   0.873\n",
              "Prob(Omnibus):                  0.000   Jarque-Bera (JB):              281.572\n",
              "Skew:                          -2.926   Prob(JB):                     7.20e-62\n",
              "Kurtosis:                      13.045   Cond. No.                     4.91e+21\n",
              "==============================================================================\n",
              "\n",
              "Warnings:\n",
              "[1] Standard Errors assume that the covariance matrix of the errors is correctly specified.\n",
              "[2] The smallest eigenvalue is 1.43e-31. This might indicate that there are\n",
              "strong multicollinearity problems or that the design matrix is singular.\n",
              "\"\"\""
            ]
          },
          "metadata": {},
          "execution_count": 328
        }
      ]
    },
    {
      "cell_type": "code",
      "metadata": {
        "colab": {
          "base_uri": "https://localhost:8080/",
          "height": 519
        },
        "id": "3PCIbzvhQP53",
        "outputId": "58d89832-3c36-47dc-edf8-d297b79965b4"
      },
      "source": [
        "new_X = new_X[:,[0,1,2,4,5]]\n",
        "\n",
        "regressor_OLS = sm.OLS(exog=new_X, endog=y).fit()\n",
        "regressor_OLS.summary()"
      ],
      "execution_count": null,
      "outputs": [
        {
          "output_type": "execute_result",
          "data": {
            "text/html": [
              "<table class=\"simpletable\">\n",
              "<caption>OLS Regression Results</caption>\n",
              "<tr>\n",
              "  <th>Dep. Variable:</th>            <td>y</td>        <th>  R-squared:         </th> <td>   0.802</td>\n",
              "</tr>\n",
              "<tr>\n",
              "  <th>Model:</th>                   <td>OLS</td>       <th>  Adj. R-squared:    </th> <td>   0.785</td>\n",
              "</tr>\n",
              "<tr>\n",
              "  <th>Method:</th>             <td>Least Squares</td>  <th>  F-statistic:       </th> <td>   45.61</td>\n",
              "</tr>\n",
              "<tr>\n",
              "  <th>Date:</th>             <td>Tue, 31 Aug 2021</td> <th>  Prob (F-statistic):</th> <td>2.80e-15</td>\n",
              "</tr>\n",
              "<tr>\n",
              "  <th>Time:</th>                 <td>08:19:13</td>     <th>  Log-Likelihood:    </th> <td> -560.15</td>\n",
              "</tr>\n",
              "<tr>\n",
              "  <th>No. Observations:</th>      <td>    50</td>      <th>  AIC:               </th> <td>   1130.</td>\n",
              "</tr>\n",
              "<tr>\n",
              "  <th>Df Residuals:</th>          <td>    45</td>      <th>  BIC:               </th> <td>   1140.</td>\n",
              "</tr>\n",
              "<tr>\n",
              "  <th>Df Model:</th>              <td>     4</td>      <th>                     </th>     <td> </td>   \n",
              "</tr>\n",
              "<tr>\n",
              "  <th>Covariance Type:</th>      <td>nonrobust</td>    <th>                     </th>     <td> </td>   \n",
              "</tr>\n",
              "</table>\n",
              "<table class=\"simpletable\">\n",
              "<tr>\n",
              "    <td></td>       <th>coef</th>     <th>std err</th>      <th>t</th>      <th>P>|t|</th>  <th>[0.025</th>    <th>0.975]</th>  \n",
              "</tr>\n",
              "<tr>\n",
              "  <th>const</th> <td> 3.933e+04</td> <td> 6877.914</td> <td>    5.719</td> <td> 0.000</td> <td> 2.55e+04</td> <td> 5.32e+04</td>\n",
              "</tr>\n",
              "<tr>\n",
              "  <th>x1</th>    <td>    0.7115</td> <td>    0.083</td> <td>    8.551</td> <td> 0.000</td> <td>    0.544</td> <td>    0.879</td>\n",
              "</tr>\n",
              "<tr>\n",
              "  <th>x2</th>    <td>    0.0620</td> <td>    0.033</td> <td>    1.856</td> <td> 0.070</td> <td>   -0.005</td> <td>    0.129</td>\n",
              "</tr>\n",
              "<tr>\n",
              "  <th>x3</th>    <td> 6666.9737</td> <td> 6665.186</td> <td>    1.000</td> <td> 0.323</td> <td>-6757.399</td> <td> 2.01e+04</td>\n",
              "</tr>\n",
              "<tr>\n",
              "  <th>x4</th>    <td> 5837.0964</td> <td> 6506.197</td> <td>    0.897</td> <td> 0.374</td> <td>-7267.056</td> <td> 1.89e+04</td>\n",
              "</tr>\n",
              "</table>\n",
              "<table class=\"simpletable\">\n",
              "<tr>\n",
              "  <th>Omnibus:</th>       <td>54.721</td> <th>  Durbin-Watson:     </th> <td>   0.873</td>\n",
              "</tr>\n",
              "<tr>\n",
              "  <th>Prob(Omnibus):</th> <td> 0.000</td> <th>  Jarque-Bera (JB):  </th> <td> 281.572</td>\n",
              "</tr>\n",
              "<tr>\n",
              "  <th>Skew:</th>          <td>-2.926</td> <th>  Prob(JB):          </th> <td>7.20e-62</td>\n",
              "</tr>\n",
              "<tr>\n",
              "  <th>Kurtosis:</th>      <td>13.045</td> <th>  Cond. No.          </th> <td>8.94e+05</td>\n",
              "</tr>\n",
              "</table><br/><br/>Warnings:<br/>[1] Standard Errors assume that the covariance matrix of the errors is correctly specified.<br/>[2] The condition number is large, 8.94e+05. This might indicate that there are<br/>strong multicollinearity or other numerical problems."
            ],
            "text/plain": [
              "<class 'statsmodels.iolib.summary.Summary'>\n",
              "\"\"\"\n",
              "                            OLS Regression Results                            \n",
              "==============================================================================\n",
              "Dep. Variable:                      y   R-squared:                       0.802\n",
              "Model:                            OLS   Adj. R-squared:                  0.785\n",
              "Method:                 Least Squares   F-statistic:                     45.61\n",
              "Date:                Tue, 31 Aug 2021   Prob (F-statistic):           2.80e-15\n",
              "Time:                        08:19:13   Log-Likelihood:                -560.15\n",
              "No. Observations:                  50   AIC:                             1130.\n",
              "Df Residuals:                      45   BIC:                             1140.\n",
              "Df Model:                           4                                         \n",
              "Covariance Type:            nonrobust                                         \n",
              "==============================================================================\n",
              "                 coef    std err          t      P>|t|      [0.025      0.975]\n",
              "------------------------------------------------------------------------------\n",
              "const       3.933e+04   6877.914      5.719      0.000    2.55e+04    5.32e+04\n",
              "x1             0.7115      0.083      8.551      0.000       0.544       0.879\n",
              "x2             0.0620      0.033      1.856      0.070      -0.005       0.129\n",
              "x3          6666.9737   6665.186      1.000      0.323   -6757.399    2.01e+04\n",
              "x4          5837.0964   6506.197      0.897      0.374   -7267.056    1.89e+04\n",
              "==============================================================================\n",
              "Omnibus:                       54.721   Durbin-Watson:                   0.873\n",
              "Prob(Omnibus):                  0.000   Jarque-Bera (JB):              281.572\n",
              "Skew:                          -2.926   Prob(JB):                     7.20e-62\n",
              "Kurtosis:                      13.045   Cond. No.                     8.94e+05\n",
              "==============================================================================\n",
              "\n",
              "Warnings:\n",
              "[1] Standard Errors assume that the covariance matrix of the errors is correctly specified.\n",
              "[2] The condition number is large, 8.94e+05. This might indicate that there are\n",
              "strong multicollinearity or other numerical problems.\n",
              "\"\"\""
            ]
          },
          "metadata": {},
          "execution_count": 329
        }
      ]
    },
    {
      "cell_type": "code",
      "metadata": {
        "colab": {
          "base_uri": "https://localhost:8080/",
          "height": 499
        },
        "id": "pzKAPGThQiLG",
        "outputId": "bed8452b-b85a-47a6-8cf9-97f6b00a7198"
      },
      "source": [
        "new_X = new_X[:,[0,1,2,3]]\n",
        "\n",
        "regressor_OLS = sm.OLS(exog=new_X, endog=y).fit()\n",
        "regressor_OLS.summary()"
      ],
      "execution_count": null,
      "outputs": [
        {
          "output_type": "execute_result",
          "data": {
            "text/html": [
              "<table class=\"simpletable\">\n",
              "<caption>OLS Regression Results</caption>\n",
              "<tr>\n",
              "  <th>Dep. Variable:</th>            <td>y</td>        <th>  R-squared:         </th> <td>   0.799</td>\n",
              "</tr>\n",
              "<tr>\n",
              "  <th>Model:</th>                   <td>OLS</td>       <th>  Adj. R-squared:    </th> <td>   0.785</td>\n",
              "</tr>\n",
              "<tr>\n",
              "  <th>Method:</th>             <td>Least Squares</td>  <th>  F-statistic:       </th> <td>   60.81</td>\n",
              "</tr>\n",
              "<tr>\n",
              "  <th>Date:</th>             <td>Tue, 31 Aug 2021</td> <th>  Prob (F-statistic):</th> <td>4.86e-16</td>\n",
              "</tr>\n",
              "<tr>\n",
              "  <th>Time:</th>                 <td>08:19:13</td>     <th>  Log-Likelihood:    </th> <td> -560.59</td>\n",
              "</tr>\n",
              "<tr>\n",
              "  <th>No. Observations:</th>      <td>    50</td>      <th>  AIC:               </th> <td>   1129.</td>\n",
              "</tr>\n",
              "<tr>\n",
              "  <th>Df Residuals:</th>          <td>    46</td>      <th>  BIC:               </th> <td>   1137.</td>\n",
              "</tr>\n",
              "<tr>\n",
              "  <th>Df Model:</th>              <td>     3</td>      <th>                     </th>     <td> </td>   \n",
              "</tr>\n",
              "<tr>\n",
              "  <th>Covariance Type:</th>      <td>nonrobust</td>    <th>                     </th>     <td> </td>   \n",
              "</tr>\n",
              "</table>\n",
              "<table class=\"simpletable\">\n",
              "<tr>\n",
              "    <td></td>       <th>coef</th>     <th>std err</th>      <th>t</th>      <th>P>|t|</th>  <th>[0.025</th>    <th>0.975]</th>  \n",
              "</tr>\n",
              "<tr>\n",
              "  <th>const</th> <td> 4.172e+04</td> <td> 6330.504</td> <td>    6.590</td> <td> 0.000</td> <td>  2.9e+04</td> <td> 5.45e+04</td>\n",
              "</tr>\n",
              "<tr>\n",
              "  <th>x1</th>    <td>    0.7046</td> <td>    0.083</td> <td>    8.522</td> <td> 0.000</td> <td>    0.538</td> <td>    0.871</td>\n",
              "</tr>\n",
              "<tr>\n",
              "  <th>x2</th>    <td>    0.0669</td> <td>    0.033</td> <td>    2.034</td> <td> 0.048</td> <td>    0.001</td> <td>    0.133</td>\n",
              "</tr>\n",
              "<tr>\n",
              "  <th>x3</th>    <td> 3623.4197</td> <td> 5725.075</td> <td>    0.633</td> <td> 0.530</td> <td>-7900.558</td> <td> 1.51e+04</td>\n",
              "</tr>\n",
              "</table>\n",
              "<table class=\"simpletable\">\n",
              "<tr>\n",
              "  <th>Omnibus:</th>       <td>58.427</td> <th>  Durbin-Watson:     </th> <td>   0.905</td>\n",
              "</tr>\n",
              "<tr>\n",
              "  <th>Prob(Omnibus):</th> <td> 0.000</td> <th>  Jarque-Bera (JB):  </th> <td> 341.892</td>\n",
              "</tr>\n",
              "<tr>\n",
              "  <th>Skew:</th>          <td>-3.123</td> <th>  Prob(JB):          </th> <td>5.74e-75</td>\n",
              "</tr>\n",
              "<tr>\n",
              "  <th>Kurtosis:</th>      <td>14.185</td> <th>  Cond. No.          </th> <td>6.58e+05</td>\n",
              "</tr>\n",
              "</table><br/><br/>Warnings:<br/>[1] Standard Errors assume that the covariance matrix of the errors is correctly specified.<br/>[2] The condition number is large, 6.58e+05. This might indicate that there are<br/>strong multicollinearity or other numerical problems."
            ],
            "text/plain": [
              "<class 'statsmodels.iolib.summary.Summary'>\n",
              "\"\"\"\n",
              "                            OLS Regression Results                            \n",
              "==============================================================================\n",
              "Dep. Variable:                      y   R-squared:                       0.799\n",
              "Model:                            OLS   Adj. R-squared:                  0.785\n",
              "Method:                 Least Squares   F-statistic:                     60.81\n",
              "Date:                Tue, 31 Aug 2021   Prob (F-statistic):           4.86e-16\n",
              "Time:                        08:19:13   Log-Likelihood:                -560.59\n",
              "No. Observations:                  50   AIC:                             1129.\n",
              "Df Residuals:                      46   BIC:                             1137.\n",
              "Df Model:                           3                                         \n",
              "Covariance Type:            nonrobust                                         \n",
              "==============================================================================\n",
              "                 coef    std err          t      P>|t|      [0.025      0.975]\n",
              "------------------------------------------------------------------------------\n",
              "const       4.172e+04   6330.504      6.590      0.000     2.9e+04    5.45e+04\n",
              "x1             0.7046      0.083      8.522      0.000       0.538       0.871\n",
              "x2             0.0669      0.033      2.034      0.048       0.001       0.133\n",
              "x3          3623.4197   5725.075      0.633      0.530   -7900.558    1.51e+04\n",
              "==============================================================================\n",
              "Omnibus:                       58.427   Durbin-Watson:                   0.905\n",
              "Prob(Omnibus):                  0.000   Jarque-Bera (JB):              341.892\n",
              "Skew:                          -3.123   Prob(JB):                     5.74e-75\n",
              "Kurtosis:                      14.185   Cond. No.                     6.58e+05\n",
              "==============================================================================\n",
              "\n",
              "Warnings:\n",
              "[1] Standard Errors assume that the covariance matrix of the errors is correctly specified.\n",
              "[2] The condition number is large, 6.58e+05. This might indicate that there are\n",
              "strong multicollinearity or other numerical problems.\n",
              "\"\"\""
            ]
          },
          "metadata": {},
          "execution_count": 330
        }
      ]
    },
    {
      "cell_type": "code",
      "metadata": {
        "colab": {
          "base_uri": "https://localhost:8080/",
          "height": 479
        },
        "id": "pLRHjdduSvfe",
        "outputId": "1968f609-95a6-471d-eefa-cae1ccb5c0ff"
      },
      "source": [
        "new_X = new_X[:,[0,1,2]]\n",
        "\n",
        "regressor_OLS = sm.OLS(exog=new_X, endog=y).fit()\n",
        "regressor_OLS.summary()"
      ],
      "execution_count": null,
      "outputs": [
        {
          "output_type": "execute_result",
          "data": {
            "text/html": [
              "<table class=\"simpletable\">\n",
              "<caption>OLS Regression Results</caption>\n",
              "<tr>\n",
              "  <th>Dep. Variable:</th>            <td>y</td>        <th>  R-squared:         </th> <td>   0.797</td>\n",
              "</tr>\n",
              "<tr>\n",
              "  <th>Model:</th>                   <td>OLS</td>       <th>  Adj. R-squared:    </th> <td>   0.788</td>\n",
              "</tr>\n",
              "<tr>\n",
              "  <th>Method:</th>             <td>Least Squares</td>  <th>  F-statistic:       </th> <td>   92.19</td>\n",
              "</tr>\n",
              "<tr>\n",
              "  <th>Date:</th>             <td>Tue, 31 Aug 2021</td> <th>  Prob (F-statistic):</th> <td>5.41e-17</td>\n",
              "</tr>\n",
              "<tr>\n",
              "  <th>Time:</th>                 <td>08:19:56</td>     <th>  Log-Likelihood:    </th> <td> -560.81</td>\n",
              "</tr>\n",
              "<tr>\n",
              "  <th>No. Observations:</th>      <td>    50</td>      <th>  AIC:               </th> <td>   1128.</td>\n",
              "</tr>\n",
              "<tr>\n",
              "  <th>Df Residuals:</th>          <td>    47</td>      <th>  BIC:               </th> <td>   1133.</td>\n",
              "</tr>\n",
              "<tr>\n",
              "  <th>Df Model:</th>              <td>     2</td>      <th>                     </th>     <td> </td>   \n",
              "</tr>\n",
              "<tr>\n",
              "  <th>Covariance Type:</th>      <td>nonrobust</td>    <th>                     </th>     <td> </td>   \n",
              "</tr>\n",
              "</table>\n",
              "<table class=\"simpletable\">\n",
              "<tr>\n",
              "    <td></td>       <th>coef</th>     <th>std err</th>      <th>t</th>      <th>P>|t|</th>  <th>[0.025</th>    <th>0.975]</th>  \n",
              "</tr>\n",
              "<tr>\n",
              "  <th>const</th> <td> 4.242e+04</td> <td> 6193.750</td> <td>    6.848</td> <td> 0.000</td> <td>    3e+04</td> <td> 5.49e+04</td>\n",
              "</tr>\n",
              "<tr>\n",
              "  <th>x1</th>    <td>    0.7023</td> <td>    0.082</td> <td>    8.557</td> <td> 0.000</td> <td>    0.537</td> <td>    0.867</td>\n",
              "</tr>\n",
              "<tr>\n",
              "  <th>x2</th>    <td>    0.0698</td> <td>    0.032</td> <td>    2.155</td> <td> 0.036</td> <td>    0.005</td> <td>    0.135</td>\n",
              "</tr>\n",
              "</table>\n",
              "<table class=\"simpletable\">\n",
              "<tr>\n",
              "  <th>Omnibus:</th>       <td>59.576</td> <th>  Durbin-Watson:     </th> <td>   0.887</td>\n",
              "</tr>\n",
              "<tr>\n",
              "  <th>Prob(Omnibus):</th> <td> 0.000</td> <th>  Jarque-Bera (JB):  </th> <td> 361.705</td>\n",
              "</tr>\n",
              "<tr>\n",
              "  <th>Skew:</th>          <td>-3.188</td> <th>  Prob(JB):          </th> <td>2.86e-79</td>\n",
              "</tr>\n",
              "<tr>\n",
              "  <th>Kurtosis:</th>      <td>14.531</td> <th>  Cond. No.          </th> <td>6.20e+05</td>\n",
              "</tr>\n",
              "</table><br/><br/>Warnings:<br/>[1] Standard Errors assume that the covariance matrix of the errors is correctly specified.<br/>[2] The condition number is large, 6.2e+05. This might indicate that there are<br/>strong multicollinearity or other numerical problems."
            ],
            "text/plain": [
              "<class 'statsmodels.iolib.summary.Summary'>\n",
              "\"\"\"\n",
              "                            OLS Regression Results                            \n",
              "==============================================================================\n",
              "Dep. Variable:                      y   R-squared:                       0.797\n",
              "Model:                            OLS   Adj. R-squared:                  0.788\n",
              "Method:                 Least Squares   F-statistic:                     92.19\n",
              "Date:                Tue, 31 Aug 2021   Prob (F-statistic):           5.41e-17\n",
              "Time:                        08:19:56   Log-Likelihood:                -560.81\n",
              "No. Observations:                  50   AIC:                             1128.\n",
              "Df Residuals:                      47   BIC:                             1133.\n",
              "Df Model:                           2                                         \n",
              "Covariance Type:            nonrobust                                         \n",
              "==============================================================================\n",
              "                 coef    std err          t      P>|t|      [0.025      0.975]\n",
              "------------------------------------------------------------------------------\n",
              "const       4.242e+04   6193.750      6.848      0.000       3e+04    5.49e+04\n",
              "x1             0.7023      0.082      8.557      0.000       0.537       0.867\n",
              "x2             0.0698      0.032      2.155      0.036       0.005       0.135\n",
              "==============================================================================\n",
              "Omnibus:                       59.576   Durbin-Watson:                   0.887\n",
              "Prob(Omnibus):                  0.000   Jarque-Bera (JB):              361.705\n",
              "Skew:                          -3.188   Prob(JB):                     2.86e-79\n",
              "Kurtosis:                      14.531   Cond. No.                     6.20e+05\n",
              "==============================================================================\n",
              "\n",
              "Warnings:\n",
              "[1] Standard Errors assume that the covariance matrix of the errors is correctly specified.\n",
              "[2] The condition number is large, 6.2e+05. This might indicate that there are\n",
              "strong multicollinearity or other numerical problems.\n",
              "\"\"\""
            ]
          },
          "metadata": {},
          "execution_count": 331
        }
      ]
    }
  ]
}