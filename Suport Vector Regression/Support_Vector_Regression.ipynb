{
  "nbformat": 4,
  "nbformat_minor": 0,
  "metadata": {
    "colab": {
      "name": "Support Vector Regression.ipynb",
      "provenance": []
    },
    "kernelspec": {
      "name": "python3",
      "display_name": "Python 3"
    },
    "language_info": {
      "name": "python"
    }
  },
  "cells": [
    {
      "cell_type": "markdown",
      "metadata": {
        "id": "J3EriK6Ya4xx"
      },
      "source": [
        "# **Support Vector Regression**\n",
        "\n",
        "SVR has diffrent regression goal as compared to Linear Regression, In Linear Regression we are trying to minimize the error between the prediction and data but in SVR our goal is to make sure that error do not exceed the thresold."
      ]
    },
    {
      "cell_type": "code",
      "metadata": {
        "id": "bpYnaMwPWvTY"
      },
      "source": [
        "# Import libraries\n",
        "import numpy as np\n",
        "import pandas as pd\n",
        "import matplotlib.pyplot as plt"
      ],
      "execution_count": 50,
      "outputs": []
    },
    {
      "cell_type": "code",
      "metadata": {
        "colab": {
          "base_uri": "https://localhost:8080/",
          "height": 195
        },
        "id": "HOKgf6mDhAq3",
        "outputId": "88984ffb-5242-4383-823d-137f32eeff8f"
      },
      "source": [
        "# Load Dataset\n",
        "dataset = pd.read_csv('Position_Salaries.csv')\n",
        "dataset.head()"
      ],
      "execution_count": 51,
      "outputs": [
        {
          "output_type": "execute_result",
          "data": {
            "text/html": [
              "<div>\n",
              "<style scoped>\n",
              "    .dataframe tbody tr th:only-of-type {\n",
              "        vertical-align: middle;\n",
              "    }\n",
              "\n",
              "    .dataframe tbody tr th {\n",
              "        vertical-align: top;\n",
              "    }\n",
              "\n",
              "    .dataframe thead th {\n",
              "        text-align: right;\n",
              "    }\n",
              "</style>\n",
              "<table border=\"1\" class=\"dataframe\">\n",
              "  <thead>\n",
              "    <tr style=\"text-align: right;\">\n",
              "      <th></th>\n",
              "      <th>Position</th>\n",
              "      <th>Level</th>\n",
              "      <th>Salary</th>\n",
              "    </tr>\n",
              "  </thead>\n",
              "  <tbody>\n",
              "    <tr>\n",
              "      <th>0</th>\n",
              "      <td>Business Analyst</td>\n",
              "      <td>1</td>\n",
              "      <td>45000</td>\n",
              "    </tr>\n",
              "    <tr>\n",
              "      <th>1</th>\n",
              "      <td>Junior Consultant</td>\n",
              "      <td>2</td>\n",
              "      <td>50000</td>\n",
              "    </tr>\n",
              "    <tr>\n",
              "      <th>2</th>\n",
              "      <td>Senior Consultant</td>\n",
              "      <td>3</td>\n",
              "      <td>60000</td>\n",
              "    </tr>\n",
              "    <tr>\n",
              "      <th>3</th>\n",
              "      <td>Manager</td>\n",
              "      <td>4</td>\n",
              "      <td>80000</td>\n",
              "    </tr>\n",
              "    <tr>\n",
              "      <th>4</th>\n",
              "      <td>Country Manager</td>\n",
              "      <td>5</td>\n",
              "      <td>110000</td>\n",
              "    </tr>\n",
              "  </tbody>\n",
              "</table>\n",
              "</div>"
            ],
            "text/plain": [
              "            Position  Level  Salary\n",
              "0   Business Analyst      1   45000\n",
              "1  Junior Consultant      2   50000\n",
              "2  Senior Consultant      3   60000\n",
              "3            Manager      4   80000\n",
              "4    Country Manager      5  110000"
            ]
          },
          "metadata": {},
          "execution_count": 51
        }
      ]
    },
    {
      "cell_type": "code",
      "metadata": {
        "id": "tQnah9_2hPoU"
      },
      "source": [
        "# Seperate data into dependant and independant\n",
        "dep = 'Salary'\n",
        "X = dataset.loc[:, dataset.columns != dep]\n",
        "y = dataset.loc[:, dataset.columns == dep]"
      ],
      "execution_count": 52,
      "outputs": []
    },
    {
      "cell_type": "code",
      "metadata": {
        "id": "4PIuDl-JhhFN"
      },
      "source": [
        "# Position and Level both are highly correlated with each other\n",
        "# so we need to eliminate Posotion column\n",
        "X = X.loc[:, X.columns != 'Position']"
      ],
      "execution_count": 53,
      "outputs": []
    },
    {
      "cell_type": "code",
      "metadata": {
        "id": "j72nqtKTh5HK"
      },
      "source": [
        "# We need to standardize Each column\n",
        "# because SVR don't do this for us\n",
        "from sklearn.preprocessing import StandardScaler\n",
        "X_sc = StandardScaler()\n",
        "y_sc = StandardScaler()\n",
        "X_norm = X_sc.fit_transform(X) \n",
        "y_norm = y_sc.fit_transform(y) "
      ],
      "execution_count": 54,
      "outputs": []
    },
    {
      "cell_type": "markdown",
      "metadata": {
        "id": "3BpAF5lJifcY"
      },
      "source": [
        "## **Fitting SVR Model**"
      ]
    },
    {
      "cell_type": "code",
      "metadata": {
        "colab": {
          "base_uri": "https://localhost:8080/"
        },
        "id": "jXQShJtoibt7",
        "outputId": "a1e760bc-ac88-4a53-e9f4-1e99b823fea9"
      },
      "source": [
        "from sklearn.svm import SVR\n",
        "regressor = SVR(kernel='rbf')\n",
        "regressor.fit(X_norm, y_norm.ravel())"
      ],
      "execution_count": 55,
      "outputs": [
        {
          "output_type": "execute_result",
          "data": {
            "text/plain": [
              "SVR(C=1.0, cache_size=200, coef0=0.0, degree=3, epsilon=0.1, gamma='scale',\n",
              "    kernel='rbf', max_iter=-1, shrinking=True, tol=0.001, verbose=False)"
            ]
          },
          "metadata": {},
          "execution_count": 55
        }
      ]
    },
    {
      "cell_type": "markdown",
      "metadata": {
        "id": "4MS8paKbivfy"
      },
      "source": [
        "## **Vizualization**\n"
      ]
    },
    {
      "cell_type": "code",
      "metadata": {
        "colab": {
          "base_uri": "https://localhost:8080/",
          "height": 295
        },
        "id": "EK9Q4Vs3iskD",
        "outputId": "dbe010ae-ba99-4944-c420-67548431d322"
      },
      "source": [
        "X_grid = np.arange(start=X.min()[0], stop=X.max()[0], step=0.1).reshape(-1,1)\n",
        "y_pred = y_sc.inverse_transform(regressor.predict(X_sc.transform(X_grid)))\n",
        "plt.scatter(X, y, color='blue')\n",
        "plt.plot(X_grid, y_pred, color='green')\n",
        "plt.xlabel('Levels')\n",
        "plt.ylabel('Salary')\n",
        "plt.title('SVR')\n",
        "plt.grid()\n",
        "plt.show()"
      ],
      "execution_count": 58,
      "outputs": [
        {
          "output_type": "display_data",
          "data": {
            "image/png": "[encoded data removed]",
            "text/plain": [
              "<Figure size 432x288 with 1 Axes>"
            ]
          },
          "metadata": {
            "needs_background": "light"
          }
        }
      ]
    },
    {
      "cell_type": "code",
      "metadata": {
        "id": "l9F4agxmlwvl"
      },
      "source": [
        ""
      ],
      "execution_count": 56,
      "outputs": []
    }
  ]
}