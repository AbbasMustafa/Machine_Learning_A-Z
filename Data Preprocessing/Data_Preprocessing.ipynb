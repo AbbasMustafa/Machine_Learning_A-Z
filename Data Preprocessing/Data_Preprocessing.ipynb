{
  "nbformat": 4,
  "nbformat_minor": 0,
  "metadata": {
    "colab": {
      "name": "Data_Preprocessing.ipynb",
      "provenance": []
    },
    "kernelspec": {
      "display_name": "Python 3",
      "name": "python3"
    },
    "language_info": {
      "name": "python"
    }
  },
  "cells": [
    {
      "cell_type": "markdown",
      "metadata": {
        "id": "mKPIhvIBJlMV"
      },
      "source": [
        "# **Data Preprocessing**"
      ]
    },
    {
      "cell_type": "markdown",
      "metadata": {
        "id": "I3ax3aKSJ0U8"
      },
      "source": [
        "## **Import the Libraries**\n",
        "\n",
        "### 1. *numpy*:\n",
        "numPy is the fundamental package for scientific computing in Python. ... NumPy arrays facilitate advanced mathematical and other types of operations on large numbers of data. Typically, such operations are executed more efficiently and with less code than is possible using Python's built-in sequences.<br>\n",
        "```import numpy as np```\n",
        "\n",
        "### 1. *pandas*:\n",
        "pandas provide high performance, fast, easy to use data structures and data analysis tools for manipulating numeric data and time series. Pandas is built on the numpy library, we can import data from various file formats like JSON, SQL, Microsoft Excel, etc.<br>\n",
        "```import pandas as pd```\n",
        "\n",
        "### 1. *matplotlib.pyplot*:\n",
        "matplotlib. pyplot is a collection of functions that make matplotlib work like MATLAB. Each pyplot function makes some change to a figure: e.g., creates a figure, creates a plotting area in a figure, plots some lines in a plotting area, decorates the plot with labels, etc.<br>\n",
        "```import matplotlib.pyplot as plt```"
      ]
    },
    {
      "cell_type": "code",
      "metadata": {
        "id": "1zy1yn0uJzq6"
      },
      "source": [
        "import numpy as np\n",
        "import pandas as pd\n",
        "import matplotlib.pyplot as plt"
      ],
      "execution_count": 137,
      "outputs": []
    },
    {
      "cell_type": "markdown",
      "metadata": {
        "id": "uuT3ZeNZQP53"
      },
      "source": [
        "## **Import the dataset**"
      ]
    },
    {
      "cell_type": "code",
      "metadata": {
        "colab": {
          "base_uri": "https://localhost:8080/",
          "height": 204
        },
        "id": "9VvzmlY9NlDL",
        "outputId": "ae1cf13e-c80b-4dbf-b1a2-3186f247bd5b"
      },
      "source": [
        "file = 'Data.csv'\n",
        "dataset = pd.read_csv(file)\n",
        "dataset.head()"
      ],
      "execution_count": 138,
      "outputs": [
        {
          "output_type": "execute_result",
          "data": {
            "text/html": [
              "<div>\n",
              "<style scoped>\n",
              "    .dataframe tbody tr th:only-of-type {\n",
              "        vertical-align: middle;\n",
              "    }\n",
              "\n",
              "    .dataframe tbody tr th {\n",
              "        vertical-align: top;\n",
              "    }\n",
              "\n",
              "    .dataframe thead th {\n",
              "        text-align: right;\n",
              "    }\n",
              "</style>\n",
              "<table border=\"1\" class=\"dataframe\">\n",
              "  <thead>\n",
              "    <tr style=\"text-align: right;\">\n",
              "      <th></th>\n",
              "      <th>Country</th>\n",
              "      <th>Age</th>\n",
              "      <th>Salary</th>\n",
              "      <th>Purchased</th>\n",
              "    </tr>\n",
              "  </thead>\n",
              "  <tbody>\n",
              "    <tr>\n",
              "      <th>0</th>\n",
              "      <td>France</td>\n",
              "      <td>44.0</td>\n",
              "      <td>72000.0</td>\n",
              "      <td>No</td>\n",
              "    </tr>\n",
              "    <tr>\n",
              "      <th>1</th>\n",
              "      <td>Spain</td>\n",
              "      <td>27.0</td>\n",
              "      <td>48000.0</td>\n",
              "      <td>Yes</td>\n",
              "    </tr>\n",
              "    <tr>\n",
              "      <th>2</th>\n",
              "      <td>Germany</td>\n",
              "      <td>30.0</td>\n",
              "      <td>54000.0</td>\n",
              "      <td>No</td>\n",
              "    </tr>\n",
              "    <tr>\n",
              "      <th>3</th>\n",
              "      <td>Spain</td>\n",
              "      <td>38.0</td>\n",
              "      <td>61000.0</td>\n",
              "      <td>No</td>\n",
              "    </tr>\n",
              "    <tr>\n",
              "      <th>4</th>\n",
              "      <td>Germany</td>\n",
              "      <td>40.0</td>\n",
              "      <td>NaN</td>\n",
              "      <td>Yes</td>\n",
              "    </tr>\n",
              "  </tbody>\n",
              "</table>\n",
              "</div>"
            ],
            "text/plain": [
              "   Country   Age   Salary Purchased\n",
              "0   France  44.0  72000.0        No\n",
              "1    Spain  27.0  48000.0       Yes\n",
              "2  Germany  30.0  54000.0        No\n",
              "3    Spain  38.0  61000.0        No\n",
              "4  Germany  40.0      NaN       Yes"
            ]
          },
          "metadata": {},
          "execution_count": 138
        }
      ]
    },
    {
      "cell_type": "markdown",
      "metadata": {
        "id": "dZDU45SIQogr"
      },
      "source": [
        "## **Seperate dependant and independant variables**"
      ]
    },
    {
      "cell_type": "code",
      "metadata": {
        "id": "SV0vLmT9Qeqr"
      },
      "source": [
        "# Purchased is Dependant variable\n",
        "# And rest of all are independant\n",
        "dep = 'Purchased'\n",
        "X = dataset.loc[:,dataset.columns != dep]\n",
        "y = dataset.loc[:,dep]"
      ],
      "execution_count": 139,
      "outputs": []
    },
    {
      "cell_type": "markdown",
      "metadata": {
        "id": "Ddp4AQUBUlLU"
      },
      "source": [
        "## **Finding Missing Values**\n",
        "Missing values are common occurrences in data. Unfortunately, most predictive modeling techniques cannot handle any missing values. Therefore, this problem must be addressed prior to modeling, Many popular predictive models such as support vector machines, the glmnet, and neural networks, cannot tolerate any amount of missing values."
      ]
    },
    {
      "cell_type": "code",
      "metadata": {
        "colab": {
          "base_uri": "https://localhost:8080/"
        },
        "id": "kcPd89rvRJxX",
        "outputId": "2cb76952-3db1-4b14-aefb-391d272af8e9"
      },
      "source": [
        "missing_values = X.isnull().sum() != 0\n",
        "col = X.loc[:, missing_values]\n",
        "num_col = col.loc[:, col.dtypes == np.float64].columns\n",
        "num_col"
      ],
      "execution_count": 140,
      "outputs": [
        {
          "output_type": "execute_result",
          "data": {
            "text/plain": [
              "Index(['Age', 'Salary'], dtype='object')"
            ]
          },
          "metadata": {},
          "execution_count": 140
        }
      ]
    },
    {
      "cell_type": "markdown",
      "metadata": {
        "id": "TpYgS1hzW8PF"
      },
      "source": [
        "## **Handling Missing Values**\n",
        "There are two method of fill NaN values\n",
        "1. ### *fillna()*:\n",
        "We can fill NaN values with pandas method fillna()\n",
        "2. ### *Imputer class*\n",
        "The scikit-learn library provides the SimpleImputer pre-processing class that can be used to replace missing values.It is a flexible class that allows you to specify the value to replace (it can be something other than NaN) and the technique used to replace it (such as mean, median, or mode). The SimpleImputer class operates directly on the NumPy array instead of the DataFrame.\n",
        "### **Diff between fillna() and SimpleImputer**:\n",
        "I feel imputer class has its own benefits because you can just simply mention mean or median to perform some action unlike in fillna where you need to supply values. But in imputer you need to fit and transform the dataset which means more lines of code. But it may give you better speed over fillna but unless really big dataset it doesn’t matter.\n",
        "But fillna has something which is really cool. You can fill the na even with a custom value which you may sometime need. This makes fillna better IMHO even if it may perform slower."
      ]
    },
    {
      "cell_type": "code",
      "metadata": {
        "colab": {
          "base_uri": "https://localhost:8080/",
          "height": 359
        },
        "id": "rAcMSaP_WeU3",
        "outputId": "d53ecd62-2344-4d52-9f62-fb9588fc96d6"
      },
      "source": [
        "# Pandas fillna() method\n",
        "mean_val = X.loc[:, num_col].mean()\n",
        "X.fillna(mean_val)"
      ],
      "execution_count": 141,
      "outputs": [
        {
          "output_type": "execute_result",
          "data": {
            "text/html": [
              "<div>\n",
              "<style scoped>\n",
              "    .dataframe tbody tr th:only-of-type {\n",
              "        vertical-align: middle;\n",
              "    }\n",
              "\n",
              "    .dataframe tbody tr th {\n",
              "        vertical-align: top;\n",
              "    }\n",
              "\n",
              "    .dataframe thead th {\n",
              "        text-align: right;\n",
              "    }\n",
              "</style>\n",
              "<table border=\"1\" class=\"dataframe\">\n",
              "  <thead>\n",
              "    <tr style=\"text-align: right;\">\n",
              "      <th></th>\n",
              "      <th>Country</th>\n",
              "      <th>Age</th>\n",
              "      <th>Salary</th>\n",
              "    </tr>\n",
              "  </thead>\n",
              "  <tbody>\n",
              "    <tr>\n",
              "      <th>0</th>\n",
              "      <td>France</td>\n",
              "      <td>44.000000</td>\n",
              "      <td>72000.000000</td>\n",
              "    </tr>\n",
              "    <tr>\n",
              "      <th>1</th>\n",
              "      <td>Spain</td>\n",
              "      <td>27.000000</td>\n",
              "      <td>48000.000000</td>\n",
              "    </tr>\n",
              "    <tr>\n",
              "      <th>2</th>\n",
              "      <td>Germany</td>\n",
              "      <td>30.000000</td>\n",
              "      <td>54000.000000</td>\n",
              "    </tr>\n",
              "    <tr>\n",
              "      <th>3</th>\n",
              "      <td>Spain</td>\n",
              "      <td>38.000000</td>\n",
              "      <td>61000.000000</td>\n",
              "    </tr>\n",
              "    <tr>\n",
              "      <th>4</th>\n",
              "      <td>Germany</td>\n",
              "      <td>40.000000</td>\n",
              "      <td>63777.777778</td>\n",
              "    </tr>\n",
              "    <tr>\n",
              "      <th>5</th>\n",
              "      <td>France</td>\n",
              "      <td>35.000000</td>\n",
              "      <td>58000.000000</td>\n",
              "    </tr>\n",
              "    <tr>\n",
              "      <th>6</th>\n",
              "      <td>Spain</td>\n",
              "      <td>38.777778</td>\n",
              "      <td>52000.000000</td>\n",
              "    </tr>\n",
              "    <tr>\n",
              "      <th>7</th>\n",
              "      <td>France</td>\n",
              "      <td>48.000000</td>\n",
              "      <td>79000.000000</td>\n",
              "    </tr>\n",
              "    <tr>\n",
              "      <th>8</th>\n",
              "      <td>Germany</td>\n",
              "      <td>50.000000</td>\n",
              "      <td>83000.000000</td>\n",
              "    </tr>\n",
              "    <tr>\n",
              "      <th>9</th>\n",
              "      <td>France</td>\n",
              "      <td>37.000000</td>\n",
              "      <td>67000.000000</td>\n",
              "    </tr>\n",
              "  </tbody>\n",
              "</table>\n",
              "</div>"
            ],
            "text/plain": [
              "   Country        Age        Salary\n",
              "0   France  44.000000  72000.000000\n",
              "1    Spain  27.000000  48000.000000\n",
              "2  Germany  30.000000  54000.000000\n",
              "3    Spain  38.000000  61000.000000\n",
              "4  Germany  40.000000  63777.777778\n",
              "5   France  35.000000  58000.000000\n",
              "6    Spain  38.777778  52000.000000\n",
              "7   France  48.000000  79000.000000\n",
              "8  Germany  50.000000  83000.000000\n",
              "9   France  37.000000  67000.000000"
            ]
          },
          "metadata": {},
          "execution_count": 141
        }
      ]
    },
    {
      "cell_type": "code",
      "metadata": {
        "colab": {
          "base_uri": "https://localhost:8080/",
          "height": 461
        },
        "id": "n1L5-Gece4Rt",
        "outputId": "3b1e1f9a-1dcf-49d5-ce04-d70c202645e2"
      },
      "source": [
        "# Simpleimputer method\n",
        "from sklearn.impute import SimpleImputer\n",
        "values = X.loc[:,num_col].values\n",
        "imputer = SimpleImputer(missing_values=np.nan, strategy='mean')\n",
        "transformed_values = imputer.fit_transform(values)\n",
        "X.loc[:,num_col] = transformed_values\n",
        "X"
      ],
      "execution_count": 142,
      "outputs": [
        {
          "output_type": "stream",
          "text": [
            "/usr/local/lib/python3.7/dist-packages/pandas/core/indexing.py:1734: SettingWithCopyWarning: \n",
            "A value is trying to be set on a copy of a slice from a DataFrame.\n",
            "Try using .loc[row_indexer,col_indexer] = value instead\n",
            "\n",
            "See the caveats in the documentation: https://pandas.pydata.org/pandas-docs/stable/user_guide/indexing.html#returning-a-view-versus-a-copy\n",
            "  isetter(loc, value[:, i].tolist())\n"
          ],
          "name": "stderr"
        },
        {
          "output_type": "execute_result",
          "data": {
            "text/html": [
              "<div>\n",
              "<style scoped>\n",
              "    .dataframe tbody tr th:only-of-type {\n",
              "        vertical-align: middle;\n",
              "    }\n",
              "\n",
              "    .dataframe tbody tr th {\n",
              "        vertical-align: top;\n",
              "    }\n",
              "\n",
              "    .dataframe thead th {\n",
              "        text-align: right;\n",
              "    }\n",
              "</style>\n",
              "<table border=\"1\" class=\"dataframe\">\n",
              "  <thead>\n",
              "    <tr style=\"text-align: right;\">\n",
              "      <th></th>\n",
              "      <th>Country</th>\n",
              "      <th>Age</th>\n",
              "      <th>Salary</th>\n",
              "    </tr>\n",
              "  </thead>\n",
              "  <tbody>\n",
              "    <tr>\n",
              "      <th>0</th>\n",
              "      <td>France</td>\n",
              "      <td>44.000000</td>\n",
              "      <td>72000.000000</td>\n",
              "    </tr>\n",
              "    <tr>\n",
              "      <th>1</th>\n",
              "      <td>Spain</td>\n",
              "      <td>27.000000</td>\n",
              "      <td>48000.000000</td>\n",
              "    </tr>\n",
              "    <tr>\n",
              "      <th>2</th>\n",
              "      <td>Germany</td>\n",
              "      <td>30.000000</td>\n",
              "      <td>54000.000000</td>\n",
              "    </tr>\n",
              "    <tr>\n",
              "      <th>3</th>\n",
              "      <td>Spain</td>\n",
              "      <td>38.000000</td>\n",
              "      <td>61000.000000</td>\n",
              "    </tr>\n",
              "    <tr>\n",
              "      <th>4</th>\n",
              "      <td>Germany</td>\n",
              "      <td>40.000000</td>\n",
              "      <td>63777.777778</td>\n",
              "    </tr>\n",
              "    <tr>\n",
              "      <th>5</th>\n",
              "      <td>France</td>\n",
              "      <td>35.000000</td>\n",
              "      <td>58000.000000</td>\n",
              "    </tr>\n",
              "    <tr>\n",
              "      <th>6</th>\n",
              "      <td>Spain</td>\n",
              "      <td>38.777778</td>\n",
              "      <td>52000.000000</td>\n",
              "    </tr>\n",
              "    <tr>\n",
              "      <th>7</th>\n",
              "      <td>France</td>\n",
              "      <td>48.000000</td>\n",
              "      <td>79000.000000</td>\n",
              "    </tr>\n",
              "    <tr>\n",
              "      <th>8</th>\n",
              "      <td>Germany</td>\n",
              "      <td>50.000000</td>\n",
              "      <td>83000.000000</td>\n",
              "    </tr>\n",
              "    <tr>\n",
              "      <th>9</th>\n",
              "      <td>France</td>\n",
              "      <td>37.000000</td>\n",
              "      <td>67000.000000</td>\n",
              "    </tr>\n",
              "  </tbody>\n",
              "</table>\n",
              "</div>"
            ],
            "text/plain": [
              "   Country        Age        Salary\n",
              "0   France  44.000000  72000.000000\n",
              "1    Spain  27.000000  48000.000000\n",
              "2  Germany  30.000000  54000.000000\n",
              "3    Spain  38.000000  61000.000000\n",
              "4  Germany  40.000000  63777.777778\n",
              "5   France  35.000000  58000.000000\n",
              "6    Spain  38.777778  52000.000000\n",
              "7   France  48.000000  79000.000000\n",
              "8  Germany  50.000000  83000.000000\n",
              "9   France  37.000000  67000.000000"
            ]
          },
          "metadata": {},
          "execution_count": 142
        }
      ]
    },
    {
      "cell_type": "markdown",
      "metadata": {
        "id": "5IQyk_BFK6yD"
      },
      "source": [
        "### **Finding Categorical Variable**"
      ]
    },
    {
      "cell_type": "code",
      "metadata": {
        "colab": {
          "base_uri": "https://localhost:8080/"
        },
        "id": "96Er7utaLA0J",
        "outputId": "c1b034c1-8bf7-4c9a-817a-064b7edda8bc"
      },
      "source": [
        "cat = X.dtypes == 'object'\n",
        "cat_col = X.loc[:, cat].columns\n",
        "cat_col"
      ],
      "execution_count": 143,
      "outputs": [
        {
          "output_type": "execute_result",
          "data": {
            "text/plain": [
              "Index(['Country'], dtype='object')"
            ]
          },
          "metadata": {},
          "execution_count": 143
        }
      ]
    },
    {
      "cell_type": "markdown",
      "metadata": {
        "id": "o-Y17MCTMvAY"
      },
      "source": [
        "### **Handling Categorical Data**\n",
        "Machine learning models require all input and output variables to be numeric.\n",
        "This means that if your data contains categorical data, you must encode it to numbers before you can fit and evaluate a model.\n",
        "The two most popular techniques are an **Ordinal Encoding** and a **One-Hot Encoding**<br>\n",
        "Some algorithms can work with categorical data directly.\n",
        "For example, a decision tree can be learned directly from categorical data with no data transform required (this depends on the specific implementation).\n",
        "Many machine learning algorithms cannot operate on label data directly. They require all input variables and output variables to be numeric.<br>\n",
        "here are three common approaches for converting ordinal and categorical variables to numerical values. They are:\n",
        "1. Label Encoding\n",
        "2. One-Hot Encoding\n",
        "3. Dummy Variable Encoding"
      ]
    },
    {
      "cell_type": "code",
      "metadata": {
        "colab": {
          "base_uri": "https://localhost:8080/"
        },
        "id": "WJI7xyh-gs0e",
        "outputId": "8860f897-eee0-422a-9720-8b15479751df"
      },
      "source": [
        "# Label Encoding\n",
        "from sklearn.preprocessing import LabelEncoder\n",
        "encoder = LabelEncoder()\n",
        "y = encoder.fit_transform(y)\n",
        "y"
      ],
      "execution_count": 144,
      "outputs": [
        {
          "output_type": "execute_result",
          "data": {
            "text/plain": [
              "array([0, 1, 0, 0, 1, 1, 0, 1, 0, 1])"
            ]
          },
          "metadata": {},
          "execution_count": 144
        }
      ]
    },
    {
      "cell_type": "markdown",
      "metadata": {
        "id": "PNsmFxonM-Zi"
      },
      "source": [
        "#### *sparse=False*\n",
        "setting sparse=False ensures that the encoded columns are returned as a numpy array (instead of a sparse matrix)."
      ]
    },
    {
      "cell_type": "code",
      "metadata": {
        "colab": {
          "base_uri": "https://localhost:8080/",
          "height": 204
        },
        "id": "Ok_aCgJmQYmJ",
        "outputId": "11a21133-a359-45fe-9319-81ba791f64d7"
      },
      "source": [
        "# One Hot Encoding\n",
        "from sklearn.preprocessing import OneHotEncoder\n",
        "encoder = OneHotEncoder(sparse=False)\n",
        "Xnew = X.copy()\n",
        "Xnew.loc[:,['France','Germany','Spain']] = encoder.fit_transform(pd.DataFrame(Xnew.loc[:,cat_col]))\n",
        "Xnew =  Xnew.drop(cat_col, axis=1)\n",
        "Xnew.head()"
      ],
      "execution_count": 145,
      "outputs": [
        {
          "output_type": "execute_result",
          "data": {
            "text/html": [
              "<div>\n",
              "<style scoped>\n",
              "    .dataframe tbody tr th:only-of-type {\n",
              "        vertical-align: middle;\n",
              "    }\n",
              "\n",
              "    .dataframe tbody tr th {\n",
              "        vertical-align: top;\n",
              "    }\n",
              "\n",
              "    .dataframe thead th {\n",
              "        text-align: right;\n",
              "    }\n",
              "</style>\n",
              "<table border=\"1\" class=\"dataframe\">\n",
              "  <thead>\n",
              "    <tr style=\"text-align: right;\">\n",
              "      <th></th>\n",
              "      <th>Age</th>\n",
              "      <th>Salary</th>\n",
              "      <th>France</th>\n",
              "      <th>Germany</th>\n",
              "      <th>Spain</th>\n",
              "    </tr>\n",
              "  </thead>\n",
              "  <tbody>\n",
              "    <tr>\n",
              "      <th>0</th>\n",
              "      <td>44.0</td>\n",
              "      <td>72000.000000</td>\n",
              "      <td>1.0</td>\n",
              "      <td>0.0</td>\n",
              "      <td>0.0</td>\n",
              "    </tr>\n",
              "    <tr>\n",
              "      <th>1</th>\n",
              "      <td>27.0</td>\n",
              "      <td>48000.000000</td>\n",
              "      <td>0.0</td>\n",
              "      <td>0.0</td>\n",
              "      <td>1.0</td>\n",
              "    </tr>\n",
              "    <tr>\n",
              "      <th>2</th>\n",
              "      <td>30.0</td>\n",
              "      <td>54000.000000</td>\n",
              "      <td>0.0</td>\n",
              "      <td>1.0</td>\n",
              "      <td>0.0</td>\n",
              "    </tr>\n",
              "    <tr>\n",
              "      <th>3</th>\n",
              "      <td>38.0</td>\n",
              "      <td>61000.000000</td>\n",
              "      <td>0.0</td>\n",
              "      <td>0.0</td>\n",
              "      <td>1.0</td>\n",
              "    </tr>\n",
              "    <tr>\n",
              "      <th>4</th>\n",
              "      <td>40.0</td>\n",
              "      <td>63777.777778</td>\n",
              "      <td>0.0</td>\n",
              "      <td>1.0</td>\n",
              "      <td>0.0</td>\n",
              "    </tr>\n",
              "  </tbody>\n",
              "</table>\n",
              "</div>"
            ],
            "text/plain": [
              "    Age        Salary  France  Germany  Spain\n",
              "0  44.0  72000.000000     1.0      0.0    0.0\n",
              "1  27.0  48000.000000     0.0      0.0    1.0\n",
              "2  30.0  54000.000000     0.0      1.0    0.0\n",
              "3  38.0  61000.000000     0.0      0.0    1.0\n",
              "4  40.0  63777.777778     0.0      1.0    0.0"
            ]
          },
          "metadata": {},
          "execution_count": 145
        }
      ]
    },
    {
      "cell_type": "markdown",
      "metadata": {
        "id": "EuCZ-9MVNHUV"
      },
      "source": [
        "#### *drop=first*\n",
        "It's drop first column of dummy variable becuase of redudancy in the dataset"
      ]
    },
    {
      "cell_type": "code",
      "metadata": {
        "colab": {
          "base_uri": "https://localhost:8080/",
          "height": 204
        },
        "id": "FmsptmOERpIE",
        "outputId": "ad0ee3de-ac23-4c09-cc59-e5204402b6d5"
      },
      "source": [
        "# Dummy Variable Encoding\n",
        "from sklearn.preprocessing import OneHotEncoder\n",
        "encoder = OneHotEncoder(drop='first' ,sparse=False)\n",
        "Xnew = X.copy()\n",
        "Xnew.loc[:,['Germany','Spain']] = encoder.fit_transform(pd.DataFrame(Xnew.loc[:,cat_col]))\n",
        "Xnew =  Xnew.drop(cat_col, axis=1)\n",
        "Xnew.head()"
      ],
      "execution_count": 146,
      "outputs": [
        {
          "output_type": "execute_result",
          "data": {
            "text/html": [
              "<div>\n",
              "<style scoped>\n",
              "    .dataframe tbody tr th:only-of-type {\n",
              "        vertical-align: middle;\n",
              "    }\n",
              "\n",
              "    .dataframe tbody tr th {\n",
              "        vertical-align: top;\n",
              "    }\n",
              "\n",
              "    .dataframe thead th {\n",
              "        text-align: right;\n",
              "    }\n",
              "</style>\n",
              "<table border=\"1\" class=\"dataframe\">\n",
              "  <thead>\n",
              "    <tr style=\"text-align: right;\">\n",
              "      <th></th>\n",
              "      <th>Age</th>\n",
              "      <th>Salary</th>\n",
              "      <th>Germany</th>\n",
              "      <th>Spain</th>\n",
              "    </tr>\n",
              "  </thead>\n",
              "  <tbody>\n",
              "    <tr>\n",
              "      <th>0</th>\n",
              "      <td>44.0</td>\n",
              "      <td>72000.000000</td>\n",
              "      <td>0.0</td>\n",
              "      <td>0.0</td>\n",
              "    </tr>\n",
              "    <tr>\n",
              "      <th>1</th>\n",
              "      <td>27.0</td>\n",
              "      <td>48000.000000</td>\n",
              "      <td>0.0</td>\n",
              "      <td>1.0</td>\n",
              "    </tr>\n",
              "    <tr>\n",
              "      <th>2</th>\n",
              "      <td>30.0</td>\n",
              "      <td>54000.000000</td>\n",
              "      <td>1.0</td>\n",
              "      <td>0.0</td>\n",
              "    </tr>\n",
              "    <tr>\n",
              "      <th>3</th>\n",
              "      <td>38.0</td>\n",
              "      <td>61000.000000</td>\n",
              "      <td>0.0</td>\n",
              "      <td>1.0</td>\n",
              "    </tr>\n",
              "    <tr>\n",
              "      <th>4</th>\n",
              "      <td>40.0</td>\n",
              "      <td>63777.777778</td>\n",
              "      <td>1.0</td>\n",
              "      <td>0.0</td>\n",
              "    </tr>\n",
              "  </tbody>\n",
              "</table>\n",
              "</div>"
            ],
            "text/plain": [
              "    Age        Salary  Germany  Spain\n",
              "0  44.0  72000.000000      0.0    0.0\n",
              "1  27.0  48000.000000      0.0    1.0\n",
              "2  30.0  54000.000000      1.0    0.0\n",
              "3  38.0  61000.000000      0.0    1.0\n",
              "4  40.0  63777.777778      1.0    0.0"
            ]
          },
          "metadata": {},
          "execution_count": 146
        }
      ]
    },
    {
      "cell_type": "markdown",
      "metadata": {
        "id": "GeHOcKoJNcE0"
      },
      "source": [
        "#### *Pandas get_dummies Function*"
      ]
    },
    {
      "cell_type": "code",
      "metadata": {
        "colab": {
          "base_uri": "https://localhost:8080/",
          "height": 359
        },
        "id": "8Qxoo8FYYF9G",
        "outputId": "b1998ded-6e69-4926-f238-d988856e671b"
      },
      "source": [
        "# Pandas get_dummies Function\n",
        "pd.get_dummies(X)"
      ],
      "execution_count": 147,
      "outputs": [
        {
          "output_type": "execute_result",
          "data": {
            "text/html": [
              "<div>\n",
              "<style scoped>\n",
              "    .dataframe tbody tr th:only-of-type {\n",
              "        vertical-align: middle;\n",
              "    }\n",
              "\n",
              "    .dataframe tbody tr th {\n",
              "        vertical-align: top;\n",
              "    }\n",
              "\n",
              "    .dataframe thead th {\n",
              "        text-align: right;\n",
              "    }\n",
              "</style>\n",
              "<table border=\"1\" class=\"dataframe\">\n",
              "  <thead>\n",
              "    <tr style=\"text-align: right;\">\n",
              "      <th></th>\n",
              "      <th>Age</th>\n",
              "      <th>Salary</th>\n",
              "      <th>Country_France</th>\n",
              "      <th>Country_Germany</th>\n",
              "      <th>Country_Spain</th>\n",
              "    </tr>\n",
              "  </thead>\n",
              "  <tbody>\n",
              "    <tr>\n",
              "      <th>0</th>\n",
              "      <td>44.000000</td>\n",
              "      <td>72000.000000</td>\n",
              "      <td>1</td>\n",
              "      <td>0</td>\n",
              "      <td>0</td>\n",
              "    </tr>\n",
              "    <tr>\n",
              "      <th>1</th>\n",
              "      <td>27.000000</td>\n",
              "      <td>48000.000000</td>\n",
              "      <td>0</td>\n",
              "      <td>0</td>\n",
              "      <td>1</td>\n",
              "    </tr>\n",
              "    <tr>\n",
              "      <th>2</th>\n",
              "      <td>30.000000</td>\n",
              "      <td>54000.000000</td>\n",
              "      <td>0</td>\n",
              "      <td>1</td>\n",
              "      <td>0</td>\n",
              "    </tr>\n",
              "    <tr>\n",
              "      <th>3</th>\n",
              "      <td>38.000000</td>\n",
              "      <td>61000.000000</td>\n",
              "      <td>0</td>\n",
              "      <td>0</td>\n",
              "      <td>1</td>\n",
              "    </tr>\n",
              "    <tr>\n",
              "      <th>4</th>\n",
              "      <td>40.000000</td>\n",
              "      <td>63777.777778</td>\n",
              "      <td>0</td>\n",
              "      <td>1</td>\n",
              "      <td>0</td>\n",
              "    </tr>\n",
              "    <tr>\n",
              "      <th>5</th>\n",
              "      <td>35.000000</td>\n",
              "      <td>58000.000000</td>\n",
              "      <td>1</td>\n",
              "      <td>0</td>\n",
              "      <td>0</td>\n",
              "    </tr>\n",
              "    <tr>\n",
              "      <th>6</th>\n",
              "      <td>38.777778</td>\n",
              "      <td>52000.000000</td>\n",
              "      <td>0</td>\n",
              "      <td>0</td>\n",
              "      <td>1</td>\n",
              "    </tr>\n",
              "    <tr>\n",
              "      <th>7</th>\n",
              "      <td>48.000000</td>\n",
              "      <td>79000.000000</td>\n",
              "      <td>1</td>\n",
              "      <td>0</td>\n",
              "      <td>0</td>\n",
              "    </tr>\n",
              "    <tr>\n",
              "      <th>8</th>\n",
              "      <td>50.000000</td>\n",
              "      <td>83000.000000</td>\n",
              "      <td>0</td>\n",
              "      <td>1</td>\n",
              "      <td>0</td>\n",
              "    </tr>\n",
              "    <tr>\n",
              "      <th>9</th>\n",
              "      <td>37.000000</td>\n",
              "      <td>67000.000000</td>\n",
              "      <td>1</td>\n",
              "      <td>0</td>\n",
              "      <td>0</td>\n",
              "    </tr>\n",
              "  </tbody>\n",
              "</table>\n",
              "</div>"
            ],
            "text/plain": [
              "         Age        Salary  Country_France  Country_Germany  Country_Spain\n",
              "0  44.000000  72000.000000               1                0              0\n",
              "1  27.000000  48000.000000               0                0              1\n",
              "2  30.000000  54000.000000               0                1              0\n",
              "3  38.000000  61000.000000               0                0              1\n",
              "4  40.000000  63777.777778               0                1              0\n",
              "5  35.000000  58000.000000               1                0              0\n",
              "6  38.777778  52000.000000               0                0              1\n",
              "7  48.000000  79000.000000               1                0              0\n",
              "8  50.000000  83000.000000               0                1              0\n",
              "9  37.000000  67000.000000               1                0              0"
            ]
          },
          "metadata": {},
          "execution_count": 147
        }
      ]
    },
    {
      "cell_type": "markdown",
      "metadata": {
        "id": "zWjMNtQKOBks"
      },
      "source": [
        "#### *handle_unknown='ignore'*\n",
        "We set handle_unknown='ignore' to avoid errors when the new dataset contains classes that aren't represented in the training data"
      ]
    },
    {
      "cell_type": "code",
      "metadata": {
        "id": "wlAusXa5YmMw",
        "colab": {
          "base_uri": "https://localhost:8080/",
          "height": 204
        },
        "outputId": "8dcaf8d8-5b12-499c-c7e1-5009960c05be"
      },
      "source": [
        "from sklearn.preprocessing import OneHotEncoder\n",
        "encoder = OneHotEncoder(handle_unknown='ignore' ,sparse=False)\n",
        "Xnew = X.copy()\n",
        "Xnew.loc[:,['France','Germany','Spain']] = encoder.fit_transform(pd.DataFrame(Xnew.loc[:,cat_col]))\n",
        "Xnew =  Xnew.drop(cat_col, axis=1)\n",
        "Xnew.head()"
      ],
      "execution_count": 148,
      "outputs": [
        {
          "output_type": "execute_result",
          "data": {
            "text/html": [
              "<div>\n",
              "<style scoped>\n",
              "    .dataframe tbody tr th:only-of-type {\n",
              "        vertical-align: middle;\n",
              "    }\n",
              "\n",
              "    .dataframe tbody tr th {\n",
              "        vertical-align: top;\n",
              "    }\n",
              "\n",
              "    .dataframe thead th {\n",
              "        text-align: right;\n",
              "    }\n",
              "</style>\n",
              "<table border=\"1\" class=\"dataframe\">\n",
              "  <thead>\n",
              "    <tr style=\"text-align: right;\">\n",
              "      <th></th>\n",
              "      <th>Age</th>\n",
              "      <th>Salary</th>\n",
              "      <th>France</th>\n",
              "      <th>Germany</th>\n",
              "      <th>Spain</th>\n",
              "    </tr>\n",
              "  </thead>\n",
              "  <tbody>\n",
              "    <tr>\n",
              "      <th>0</th>\n",
              "      <td>44.0</td>\n",
              "      <td>72000.000000</td>\n",
              "      <td>1.0</td>\n",
              "      <td>0.0</td>\n",
              "      <td>0.0</td>\n",
              "    </tr>\n",
              "    <tr>\n",
              "      <th>1</th>\n",
              "      <td>27.0</td>\n",
              "      <td>48000.000000</td>\n",
              "      <td>0.0</td>\n",
              "      <td>0.0</td>\n",
              "      <td>1.0</td>\n",
              "    </tr>\n",
              "    <tr>\n",
              "      <th>2</th>\n",
              "      <td>30.0</td>\n",
              "      <td>54000.000000</td>\n",
              "      <td>0.0</td>\n",
              "      <td>1.0</td>\n",
              "      <td>0.0</td>\n",
              "    </tr>\n",
              "    <tr>\n",
              "      <th>3</th>\n",
              "      <td>38.0</td>\n",
              "      <td>61000.000000</td>\n",
              "      <td>0.0</td>\n",
              "      <td>0.0</td>\n",
              "      <td>1.0</td>\n",
              "    </tr>\n",
              "    <tr>\n",
              "      <th>4</th>\n",
              "      <td>40.0</td>\n",
              "      <td>63777.777778</td>\n",
              "      <td>0.0</td>\n",
              "      <td>1.0</td>\n",
              "      <td>0.0</td>\n",
              "    </tr>\n",
              "  </tbody>\n",
              "</table>\n",
              "</div>"
            ],
            "text/plain": [
              "    Age        Salary  France  Germany  Spain\n",
              "0  44.0  72000.000000     1.0      0.0    0.0\n",
              "1  27.0  48000.000000     0.0      0.0    1.0\n",
              "2  30.0  54000.000000     0.0      1.0    0.0\n",
              "3  38.0  61000.000000     0.0      0.0    1.0\n",
              "4  40.0  63777.777778     0.0      1.0    0.0"
            ]
          },
          "metadata": {},
          "execution_count": 148
        }
      ]
    },
    {
      "cell_type": "code",
      "metadata": {
        "colab": {
          "base_uri": "https://localhost:8080/",
          "height": 173
        },
        "id": "TstyU_UPOYkH",
        "outputId": "30472a28-fe07-476f-a6cc-adc2b082f8e6"
      },
      "source": [
        "data = {\n",
        "    'Age':[55,10,20,50],\n",
        "    'Salary':[7500,50,40,88],\n",
        "    'Country':['Afghanistan','France','Spain','Germany']\n",
        "}\n",
        "new_data = pd.DataFrame(data)\n",
        "new_data"
      ],
      "execution_count": 149,
      "outputs": [
        {
          "output_type": "execute_result",
          "data": {
            "text/html": [
              "<div>\n",
              "<style scoped>\n",
              "    .dataframe tbody tr th:only-of-type {\n",
              "        vertical-align: middle;\n",
              "    }\n",
              "\n",
              "    .dataframe tbody tr th {\n",
              "        vertical-align: top;\n",
              "    }\n",
              "\n",
              "    .dataframe thead th {\n",
              "        text-align: right;\n",
              "    }\n",
              "</style>\n",
              "<table border=\"1\" class=\"dataframe\">\n",
              "  <thead>\n",
              "    <tr style=\"text-align: right;\">\n",
              "      <th></th>\n",
              "      <th>Age</th>\n",
              "      <th>Salary</th>\n",
              "      <th>Country</th>\n",
              "    </tr>\n",
              "  </thead>\n",
              "  <tbody>\n",
              "    <tr>\n",
              "      <th>0</th>\n",
              "      <td>55</td>\n",
              "      <td>7500</td>\n",
              "      <td>Afghanistan</td>\n",
              "    </tr>\n",
              "    <tr>\n",
              "      <th>1</th>\n",
              "      <td>10</td>\n",
              "      <td>50</td>\n",
              "      <td>France</td>\n",
              "    </tr>\n",
              "    <tr>\n",
              "      <th>2</th>\n",
              "      <td>20</td>\n",
              "      <td>40</td>\n",
              "      <td>Spain</td>\n",
              "    </tr>\n",
              "    <tr>\n",
              "      <th>3</th>\n",
              "      <td>50</td>\n",
              "      <td>88</td>\n",
              "      <td>Germany</td>\n",
              "    </tr>\n",
              "  </tbody>\n",
              "</table>\n",
              "</div>"
            ],
            "text/plain": [
              "   Age  Salary      Country\n",
              "0   55    7500  Afghanistan\n",
              "1   10      50       France\n",
              "2   20      40        Spain\n",
              "3   50      88      Germany"
            ]
          },
          "metadata": {},
          "execution_count": 149
        }
      ]
    },
    {
      "cell_type": "code",
      "metadata": {
        "colab": {
          "base_uri": "https://localhost:8080/",
          "height": 173
        },
        "id": "xurXcyqkO_hK",
        "outputId": "c6c0a289-4e87-4dc4-bca2-3ff015140898"
      },
      "source": [
        "new_data.loc[:,['France','Germany','Spain']] = encoder.transform(pd.DataFrame(new_data.loc[:,cat_col]))\n",
        "new_data"
      ],
      "execution_count": 150,
      "outputs": [
        {
          "output_type": "execute_result",
          "data": {
            "text/html": [
              "<div>\n",
              "<style scoped>\n",
              "    .dataframe tbody tr th:only-of-type {\n",
              "        vertical-align: middle;\n",
              "    }\n",
              "\n",
              "    .dataframe tbody tr th {\n",
              "        vertical-align: top;\n",
              "    }\n",
              "\n",
              "    .dataframe thead th {\n",
              "        text-align: right;\n",
              "    }\n",
              "</style>\n",
              "<table border=\"1\" class=\"dataframe\">\n",
              "  <thead>\n",
              "    <tr style=\"text-align: right;\">\n",
              "      <th></th>\n",
              "      <th>Age</th>\n",
              "      <th>Salary</th>\n",
              "      <th>Country</th>\n",
              "      <th>France</th>\n",
              "      <th>Germany</th>\n",
              "      <th>Spain</th>\n",
              "    </tr>\n",
              "  </thead>\n",
              "  <tbody>\n",
              "    <tr>\n",
              "      <th>0</th>\n",
              "      <td>55</td>\n",
              "      <td>7500</td>\n",
              "      <td>Afghanistan</td>\n",
              "      <td>0.0</td>\n",
              "      <td>0.0</td>\n",
              "      <td>0.0</td>\n",
              "    </tr>\n",
              "    <tr>\n",
              "      <th>1</th>\n",
              "      <td>10</td>\n",
              "      <td>50</td>\n",
              "      <td>France</td>\n",
              "      <td>1.0</td>\n",
              "      <td>0.0</td>\n",
              "      <td>0.0</td>\n",
              "    </tr>\n",
              "    <tr>\n",
              "      <th>2</th>\n",
              "      <td>20</td>\n",
              "      <td>40</td>\n",
              "      <td>Spain</td>\n",
              "      <td>0.0</td>\n",
              "      <td>0.0</td>\n",
              "      <td>1.0</td>\n",
              "    </tr>\n",
              "    <tr>\n",
              "      <th>3</th>\n",
              "      <td>50</td>\n",
              "      <td>88</td>\n",
              "      <td>Germany</td>\n",
              "      <td>0.0</td>\n",
              "      <td>1.0</td>\n",
              "      <td>0.0</td>\n",
              "    </tr>\n",
              "  </tbody>\n",
              "</table>\n",
              "</div>"
            ],
            "text/plain": [
              "   Age  Salary      Country  France  Germany  Spain\n",
              "0   55    7500  Afghanistan     0.0      0.0    0.0\n",
              "1   10      50       France     1.0      0.0    0.0\n",
              "2   20      40        Spain     0.0      0.0    1.0\n",
              "3   50      88      Germany     0.0      1.0    0.0"
            ]
          },
          "metadata": {},
          "execution_count": 150
        }
      ]
    },
    {
      "cell_type": "markdown",
      "metadata": {
        "id": "O-WmM5geWwnE"
      },
      "source": [
        "### **Train Test Split**\n",
        "The train-test split procedure is used to estimate the performance of machine learning algorithms when they are used to make predictions on data not used to train the model"
      ]
    },
    {
      "cell_type": "code",
      "metadata": {
        "colab": {
          "base_uri": "https://localhost:8080/"
        },
        "id": "rkGeTOH7Rm-l",
        "outputId": "6becd49a-c84d-4253-ecd6-3e037240256b"
      },
      "source": [
        "from sklearn.model_selection import train_test_split\n",
        "X_train, X_test, y_train, y_test = train_test_split(Xnew, y, random_state=1, test_size=0.3)\n",
        "print(\"X_train: {} X_test {}\".format(X_train.shape[0],X_test.shape[0]))"
      ],
      "execution_count": 151,
      "outputs": [
        {
          "output_type": "stream",
          "text": [
            "X_train: 7 X_test 3\n"
          ],
          "name": "stdout"
        }
      ]
    },
    {
      "cell_type": "markdown",
      "metadata": {
        "id": "nl9cqvCrbEII"
      },
      "source": [
        "### **Standardization**\n",
        "Many machine learning algorithms perform better when numerical input variables are scaled to a standard range.\n",
        "This includes algorithms that use a weighted sum of the input, like linear regression, and algorithms that use distance measures, like k-nearest neighbors."
      ]
    },
    {
      "cell_type": "code",
      "metadata": {
        "id": "y9o8TCLAXICp"
      },
      "source": [
        "from sklearn.preprocessing import StandardScaler\n",
        "sc = StandardScaler()\n",
        "X_train_norm = sc.fit_transform(X_train)\n",
        "X_test_norm = sc.transform(X_test)"
      ],
      "execution_count": 152,
      "outputs": []
    },
    {
      "cell_type": "code",
      "metadata": {
        "colab": {
          "base_uri": "https://localhost:8080/"
        },
        "id": "2theTtQghYwW",
        "outputId": "4868b640-681e-4f75-b867-c0b77f30b0e7"
      },
      "source": [
        "X_train_norm"
      ],
      "execution_count": 154,
      "outputs": [
        {
          "output_type": "execute_result",
          "data": {
            "text/plain": [
              "array([[-0.03891021, -0.22960023, -0.8660254 ,  1.58113883, -0.63245553],\n",
              "       [ 0.50583275,  0.49120535,  1.15470054, -0.63245553, -0.63245553],\n",
              "       [-0.31128169, -0.47311563, -0.8660254 , -0.63245553,  1.58113883],\n",
              "       [-1.80932482, -1.6127677 , -0.8660254 , -0.63245553,  1.58113883],\n",
              "       [ 1.0505757 ,  1.10486416,  1.15470054, -0.63245553, -0.63245553],\n",
              "       [ 1.32294718,  1.45552633, -0.8660254 ,  1.58113883, -0.63245553],\n",
              "       [-0.71983891, -0.73611226,  1.15470054, -0.63245553, -0.63245553]])"
            ]
          },
          "metadata": {},
          "execution_count": 154
        }
      ]
    },
    {
      "cell_type": "code",
      "metadata": {
        "id": "vDRejWQyhZ6s"
      },
      "source": [
        ""
      ],
      "execution_count": null,
      "outputs": []
    }
  ]
}